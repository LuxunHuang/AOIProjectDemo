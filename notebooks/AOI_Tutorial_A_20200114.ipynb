{
 "cells": [
  {
   "cell_type": "markdown",
   "metadata": {
    "colab_type": "text",
    "id": "yhFS0k6edj4s"
   },
   "source": [
    "# AOI Course (part 1) by Hsueh-Ting Chu, Asia University, Jan., 2020\n",
    "* 這個教程使用工研院AIdea人工智慧共創平台的AOI資料集做為練習的標的。\n",
    "* 介紹撰寫深度學習的程式來進行自動光學檢查的瑕疵分類。\n",
    "* 本notebook程式可以在雲端使用Google Colab或使用個人電腦上的Jupyter執行。\n",
    "\n",
    "AIdea人工智慧共創平台\n",
    "https://aidea-web.tw/topic/76f9ec46-cb90-4aa8-82f2-ebfed54cecfb\n",
    "\n",
    "朱學亭老師\n",
    "* EMAIL: htchu.taiwan@gmail.com\n",
    "* FB: https://www.facebook.com/htchu.taiwan\n"
   ]
  },
  {
   "cell_type": "markdown",
   "metadata": {
    "colab_type": "text",
    "id": "0KvrRl029pPB"
   },
   "source": [
    "#Tutorial 1: training a full CNN model for AOI \n",
    "![alt text](https://lh3.googleusercontent.com/eDcGpCgIjxaE-hcQwxbR1GuOWV6i6Yv7NYmQDc9OF46IOEVoDL68yuTtguLX2nUb8u6Qfe01l2jvFgNDHr-pfL7tFIdykYr8nmNliUfiMx_V76Y9rxAZPbZhhoPrIfmrek6cESEqKCBrZXVhjewoQ9LSJSVCeoBLlKIaY0lANzysHFOEia0_JtPD00X3Yd-1uYGgCKiVlZE8WZdZvil8jxMSE_kVM8QIQSOHYudLmZROLgdsFOoE3nWQ9zYrecuQWiq_C79d-qXi0DDM_XPMIqhKrzW-NsoPoI_Bxj4KGyzNnP2xITfnmt2Y6jqma13v8nhRPt7KI6mGiwgFEREgnjruUoDGi4G5yxMfHFOSg9aRg5TXYjxhFvWUGBW7UxxKHCcOjye61BNrQhLeKdntC6W-kT1c3cOOBlnvJRxfdcYekCkSuBg-9PpfQcvvP0LhU0vuzYgVT20VB-OWAivnlIqa59snAzSsmFoxzAxpHd-P2itJ-G4WVd0ASNfBw9FxISBioWnPkEQTU6I65cBSo1FOUiIWqlp41VJnkW2jj8zDuEAVtRmI9E1-__gz44TxBmzEa5b3EO3ujoX903yuj9YPhD8xJbtJQKKyh-08Gq2rP8bUMXN2DybXFcYE81I-oZGhqUuUuk8yO9HGfUTEW4nNXOqfvcS8qLm9Rlbv4AsL1I-xK45HvZM=w1920-h291-no)"
   ]
  },
  {
   "cell_type": "markdown",
   "metadata": {
    "colab_type": "text",
    "id": "BkguTuu0doDW"
   },
   "source": [
    "## (A) Use TF 2.0 (Optional)\n",
    "### Step 1: Choose tensorflow_version\n"
   ]
  },
  {
   "cell_type": "code",
   "execution_count": null,
   "metadata": {
    "colab": {
     "base_uri": "https://localhost:8080/",
     "height": 51
    },
    "colab_type": "code",
    "id": "l6aE0y5oc8Ec",
    "outputId": "1e0a0683-e340-4ac5-8648-693ebd9cbdac"
   },
   "outputs": [],
   "source": [
    "try:\n",
    "  # %tensorflow_version only exists in Colab.\n",
    "  %tensorflow_version 2.x\n",
    "except Exception:\n",
    "  pass\n",
    "\n",
    "import tensorflow as tf\n",
    "print(tf.__version__)"
   ]
  },
  {
   "cell_type": "markdown",
   "metadata": {
    "colab_type": "text",
    "id": "V53hmygqemr7"
   },
   "source": [
    "## (B) Setup Colab and mount the AOI data folder"
   ]
  },
  {
   "cell_type": "markdown",
   "metadata": {
    "colab_type": "text",
    "id": "IH_ca28KdtsE"
   },
   "source": [
    "### Step 2: Add the data folder to your Google drive\n",
    "Click https://drive.google.com/open?id=15tGIHAPAatgdB8iZh_m80jCBPa-CrI_P\n",
    "![alt text](https://lh3.googleusercontent.com/r-gU6GT4MshdPDeaTjSSUIQP63ExT1ufshFMFGAjDBhu00tu9jMbMwbnjfvjSO4Q6js31X6SfOmSmQxSBS02Uj2x5HAfNvI6lyWdbgIazAlB3OQfB7d3-Cte6GrbarZzHCi_XYeufeTw-eS3GGNeOdQra9mXofIwVNBS6116XCjkVOt0zUdzJsvo_7B6HuTZLenuqJW0cTsnPdjJ_NpYcc3pqLVNlgxc7pdVeNmLhpm4AQKH5bsc6CGwpiAluRMtlPw-MmVVEtLbqCysICOHfB9xyJsc-sG6NiuLxNU4B52FFA-3xA4kVK5_xFRLYQU3ZDM9N2uSFzMszNqoSuyQaLqCcEnJHuH3IbimQEoo613MJtXuGDNMBo0nyQpWMlrRcaorrcn1eOf9IfIwAdStEMNyk-yt3PbajKS1TUnOKPXrVrS2AZZECXR3I2Mu_HQb99MapFgAG5TEJBbp0Qacer5ksM70njl3exIlWR9CosN5FXFQnlW2pEVObL-i9buIt2OtEhl5SeURzNC1vPfI-q_Knb_3VEN5OIQIO8A_chs6OJgvKxqVddw6T0vcPrGitkiyudQ1kZSel7xrSzApGuNBmUzfDYVRhMIjNF3RL6O05-daZaCTbRXtY9gulVDCaoDV7TAgRpLa3n6Kvx54QnAHtj7wuowiv9_lreRRwy9qfzTzip0MVKE=w736-h172-no)"
   ]
  },
  {
   "cell_type": "markdown",
   "metadata": {
    "colab_type": "text",
    "id": "zkVGYc7jd47b"
   },
   "source": [
    "### Step 3: Mount the AOI folder\n",
    "If error, check https://myaccount.google.com/u/2/permissions "
   ]
  },
  {
   "cell_type": "code",
   "execution_count": null,
   "metadata": {
    "colab": {
     "base_uri": "https://localhost:8080/",
     "height": 122
    },
    "colab_type": "code",
    "id": "TdkP8Xp6ds4h",
    "outputId": "3823d468-a322-41ce-e5d3-556a85a3ef74"
   },
   "outputs": [],
   "source": [
    "#Step 3a: Mount your Google Drive\n",
    "from google.colab import drive\n",
    "drive.mount(\"/content/drive\", force_remount=True)"
   ]
  },
  {
   "cell_type": "code",
   "execution_count": null,
   "metadata": {
    "colab": {
     "base_uri": "https://localhost:8080/",
     "height": 34
    },
    "colab_type": "code",
    "id": "u7XTF3O0y5Si",
    "outputId": "246e6d41-5777-40b5-ce25-ba95094adda7"
   },
   "outputs": [],
   "source": [
    "#Step 3b: List the folder\n",
    "!ls \"/content/drive/My Drive\""
   ]
  },
  {
   "cell_type": "markdown",
   "metadata": {
    "colab_type": "text",
    "id": "jXHVH0h0eMAp"
   },
   "source": [
    "### Step 4: Check the AOI data path "
   ]
  },
  {
   "cell_type": "code",
   "execution_count": null,
   "metadata": {
    "colab": {
     "base_uri": "https://localhost:8080/",
     "height": 51
    },
    "colab_type": "code",
    "id": "Glk-MVCoeX2P",
    "outputId": "804f8b0b-cc81-4723-8776-d005fcd4c149"
   },
   "outputs": [],
   "source": [
    "data_path = \"  \"\n",
    "!ls \"/content/drive/My Drive/aidea-aoi2/data/\""
   ]
  },
  {
   "cell_type": "code",
   "execution_count": null,
   "metadata": {
    "colab": {
     "base_uri": "https://localhost:8080/",
     "height": 34
    },
    "colab_type": "code",
    "id": "abIOWNhXNVPp",
    "outputId": "571725c4-06e2-4684-b22e-d1f0b39785c6"
   },
   "outputs": [],
   "source": [
    "#alternative data path for local computer\n",
    "data_path = \"../data/\"\n",
    "#!ls \"../data/\"\n",
    "!dir/w \"../data/\""
   ]
  },
  {
   "cell_type": "markdown",
   "metadata": {
    "colab_type": "text",
    "id": "pR76TqqCiW4S"
   },
   "source": [
    "## (C) Input training data"
   ]
  },
  {
   "cell_type": "markdown",
   "metadata": {
    "colab_type": "text",
    "id": "jR_KADlQk7Gs"
   },
   "source": [
    "### Step 5: read lalels of the training set"
   ]
  },
  {
   "cell_type": "code",
   "execution_count": null,
   "metadata": {
    "colab": {
     "base_uri": "https://localhost:8080/",
     "height": 34
    },
    "colab_type": "code",
    "id": "iaFX5Cqgicw0",
    "outputId": "ed55eb2b-67fb-48fe-dc9b-5e2317589594"
   },
   "outputs": [],
   "source": [
    "import pandas as pd\n",
    "df_train = pd.read_csv(data_path+ \"  \")\n",
    "print(df_train.shape)"
   ]
  },
  {
   "cell_type": "code",
   "execution_count": null,
   "metadata": {
    "colab": {
     "base_uri": "https://localhost:8080/",
     "height": 204
    },
    "colab_type": "code",
    "id": "6dwc7F7dioM7",
    "outputId": "340f8f06-3daf-404f-adc2-1e89c0728b06"
   },
   "outputs": [],
   "source": [
    "df_train.head()"
   ]
  },
  {
   "cell_type": "markdown",
   "metadata": {
    "colab_type": "text",
    "id": "WHjI9HpmRfac"
   },
   "source": [
    "### Step 6: Build the lists of training images and labels from the dataframe"
   ]
  },
  {
   "cell_type": "code",
   "execution_count": null,
   "metadata": {
    "colab": {
     "base_uri": "https://localhost:8080/",
     "height": 34
    },
    "colab_type": "code",
    "id": "LizhcbfXis75",
    "outputId": "57dfd6ab-26a6-41ba-8a46-6862cf6f793c"
   },
   "outputs": [],
   "source": [
    "#limit the amount of training images for the class process\n",
    "#train_num = df_train.shape[0]\n",
    "train_num = 480\n",
    "if train_num >= df_train.shape[0]:\n",
    "  train_num = df_train.shape[0]\n",
    "train_files = df_train.iloc[:train_num,0].values\n",
    "\n",
    "print(train_labels[:20])"
   ]
  },
  {
   "cell_type": "markdown",
   "metadata": {
    "colab_type": "text",
    "id": "uImM5L4DlG4X"
   },
   "source": [
    "### Step 7: read images of the training set"
   ]
  },
  {
   "cell_type": "code",
   "execution_count": null,
   "metadata": {
    "colab": {
     "base_uri": "https://localhost:8080/",
     "height": 80
    },
    "colab_type": "code",
    "id": "V2GH166li2f6",
    "outputId": "17058893-42a6-4911-ac3d-acb045972620"
   },
   "outputs": [],
   "source": [
    "train_path = data_path+ \"train_images/\"\n",
    "train_images = []\n",
    "from tensorflow.keras.preprocessing import image\n",
    "for file in train_files:\n",
    "    img = image.load_img(train_path+file, color_mode=\" \")\n",
    "    train_images.append(img)\n",
    "    if len(train_images)%100 == 0:\n",
    "      print('.', end='')\n",
    "print(len(train_images))"
   ]
  },
  {
   "cell_type": "markdown",
   "metadata": {
    "colab_type": "text",
    "id": "acQAGGlik5Gz"
   },
   "source": [
    "### Step 8: show AOI images of the classes: \n",
    "0 (normal), 1 (void), 2 (horizontal  defect) 3 (vertical defect), 4 (edge defect), 5 (particle)"
   ]
  },
  {
   "cell_type": "code",
   "execution_count": null,
   "metadata": {
    "colab": {},
    "colab_type": "code",
    "id": "TqB5T0_yk21r"
   },
   "outputs": [],
   "source": [
    "import matplotlib.pyplot as plt\n",
    "%matplotlib inline"
   ]
  },
  {
   "cell_type": "code",
   "execution_count": null,
   "metadata": {
    "colab": {
     "base_uri": "https://localhost:8080/",
     "height": 593
    },
    "colab_type": "code",
    "id": "8xBuhRnLlmTM",
    "outputId": "e1a3a176-783b-401b-a6f7-997420a4a53f"
   },
   "outputs": [],
   "source": [
    "import random\n",
    "curclass = 0\n",
    "fig,ax=plt.subplots(2, 3)\n",
    "fig.set_size_inches(10,10)\n",
    "for i in range(2):\n",
    "    for j in range (3):\n",
    "        sel=random.randint(0,   )\n",
    "        while train_labels[sel]!=curclass:\n",
    "          sel +=1\n",
    "          if sel == train_num -1:\n",
    "            sel = 0\n",
    "        curclass += 1\n",
    "        curclass %= 6\n",
    "        #sel=random.randint(0,train_num)\n",
    "        ax[i,j].imshow(train_images[sel], cmap='gray')\n",
    "        ax[i,j].set_title('No. {} Label:{} '.format(sel, train_labels[sel]))       \n",
    "plt.tight_layout()"
   ]
  },
  {
   "cell_type": "markdown",
   "metadata": {
    "colab_type": "text",
    "id": "eMxY9IGumAew"
   },
   "source": [
    "### Step 9: Show statistics of training images in the 6 classes"
   ]
  },
  {
   "cell_type": "code",
   "execution_count": null,
   "metadata": {
    "colab": {
     "base_uri": "https://localhost:8080/",
     "height": 34
    },
    "colab_type": "code",
    "id": "SGZkuGS3mTCO",
    "outputId": "bfa5f999-1591-426c-bb00-f4be7570cbec"
   },
   "outputs": [],
   "source": [
    "import numpy as np\n",
    "labels, counts = \n",
    "print(labels, counts)"
   ]
  },
  {
   "cell_type": "markdown",
   "metadata": {
    "colab_type": "text",
    "id": "lYN-G0YDV_9X"
   },
   "source": [
    "### Step 10: Plot the counts "
   ]
  },
  {
   "cell_type": "code",
   "execution_count": null,
   "metadata": {
    "colab": {
     "base_uri": "https://localhost:8080/",
     "height": 350
    },
    "colab_type": "code",
    "id": "MTX_Anx0mWzQ",
    "outputId": "8ffd50f5-c652-4276-955b-815bee77e333"
   },
   "outputs": [],
   "source": [
    "fig = plt.figure(figsize=(8, 5))\n",
    "plt.bar(    ,    , width=0.7, align='center')\n",
    "plt.title(\"Label Distribution\")\n",
    "plt.xlabel('Label')\n",
    "plt.ylabel('Count')\n",
    "plt.xticks(labels)\n",
    "plt.ylim(0, 120)\n",
    "\n",
    "for a, b in zip(labels, counts):\n",
    "    plt.text(a, b, '%d' % b, ha='center', va='bottom', fontsize=10)\n",
    "plt.show()"
   ]
  },
  {
   "cell_type": "markdown",
   "metadata": {
    "colab_type": "text",
    "id": "ZD4ZBffHX71W"
   },
   "source": [
    "### Step 11: Check the shape of single image "
   ]
  },
  {
   "cell_type": "code",
   "execution_count": null,
   "metadata": {
    "colab": {
     "base_uri": "https://localhost:8080/",
     "height": 34
    },
    "colab_type": "code",
    "id": "iqQjygi1m_qS",
    "outputId": "7a92df2e-08fa-4549-8e0d-8a9fd28fc26f"
   },
   "outputs": [],
   "source": [
    "from tensorflow.keras.preprocessing.image import img_to_array\n",
    "# convert to numpy array\n",
    "img_array0 = img_to_array(train_images[0])\n",
    "print(img_array0.shape)\n",
    "del img_array0"
   ]
  },
  {
   "cell_type": "markdown",
   "metadata": {
    "colab_type": "text",
    "id": "NemsKJX8YLjW"
   },
   "source": [
    "### Step 12: Convert each training image into a numpy array and collect"
   ]
  },
  {
   "cell_type": "code",
   "execution_count": null,
   "metadata": {
    "colab": {
     "base_uri": "https://localhost:8080/",
     "height": 34
    },
    "colab_type": "code",
    "id": "BkwlHXQunZ02",
    "outputId": "83785ae8-b08d-4fbd-9711-0008e91b3e18"
   },
   "outputs": [],
   "source": [
    "arr = []\n",
    "from tensorflow.keras.preprocessing.image import img_to_array\n",
    "for img in train_images:\n",
    "    \n",
    "    \n",
    "X_train = np.array(arr)\n",
    "print(X_train.shape)"
   ]
  },
  {
   "cell_type": "code",
   "execution_count": null,
   "metadata": {
    "colab": {
     "base_uri": "https://localhost:8080/",
     "height": 34
    },
    "colab_type": "code",
    "id": "EOAJl-PmnwyK",
    "outputId": "4fbac98a-ff8c-45c5-853e-c23d4a658bd1"
   },
   "outputs": [],
   "source": [
    "# The pixel value in [0,1)\n",
    "print(X_train[0, 0 , 0 , 0])"
   ]
  },
  {
   "cell_type": "markdown",
   "metadata": {
    "colab_type": "text",
    "id": "-I-AK1OYak6H"
   },
   "source": [
    "### Step 13:One-hot encoding for labels"
   ]
  },
  {
   "cell_type": "code",
   "execution_count": null,
   "metadata": {
    "colab": {
     "base_uri": "https://localhost:8080/",
     "height": 136
    },
    "colab_type": "code",
    "id": "bxVgqD0dpIIm",
    "outputId": "fc87da96-3217-4439-aa16-07f602b246d6"
   },
   "outputs": [],
   "source": [
    "from tensorflow.keras.utils import to_categorical\n",
    "# one-hot encoding\n",
    "num_classes = 6\n",
    "y_train = to_categorical( ,  )\n",
    "print(y_train)"
   ]
  },
  {
   "cell_type": "markdown",
   "metadata": {
    "colab_type": "text",
    "id": "vl4h6VufoNwU"
   },
   "source": [
    "## (D) Model training and inference, including: \n",
    "定義（define）, 編譯（compile）, 訓練（fit）, 評估（evaluate）, 預測（prediction） "
   ]
  },
  {
   "cell_type": "markdown",
   "metadata": {
    "colab_type": "text",
    "id": "VDkl3H-woXKA"
   },
   "source": [
    "### Step 14: define the CNN model"
   ]
  },
  {
   "cell_type": "code",
   "execution_count": null,
   "metadata": {
    "colab": {},
    "colab_type": "code",
    "id": "5Y-15yJXn_LM"
   },
   "outputs": [],
   "source": [
    "from tensorflow.keras import Sequential\n",
    "from tensorflow.keras.models import Model\n",
    "from tensorflow.keras.layers import Dense, Activation, Flatten\n",
    "from tensorflow.keras.layers import Input\n",
    "from tensorflow.keras.layers import Dropout, Flatten, Activation\n",
    "from tensorflow.keras.layers import Conv2D, MaxPooling2D\n",
    "from tensorflow.keras.optimizers import Adam,SGD,Adagrad,Adadelta,RMSprop"
   ]
  },
  {
   "cell_type": "code",
   "execution_count": null,
   "metadata": {
    "colab": {
     "base_uri": "https://localhost:8080/",
     "height": 88
    },
    "colab_type": "code",
    "id": "ZSObvzWmofw_",
    "outputId": "da1c40fe-228d-4bc5-b38a-9081fcb9b6b8"
   },
   "outputs": [],
   "source": [
    "#create model\n",
    "model = Sequential()\n",
    "#add model layers\n",
    "\n",
    "model.add(Conv2D(filters = 32, kernel_size = (5,5),activation ='relu', input_shape = (512,512,1)))\n",
    "model.add(MaxPooling2D(pool_size=(2,2)))\n",
    "\n",
    "model.add(Conv2D(filters = 64, kernel_size = (3,3),padding = 'Same',activation ='relu'))\n",
    "model.add(MaxPooling2D(pool_size=(2,2), strides=(2,2)))\n",
    "\n",
    "model.add(Conv2D(filters =96, kernel_size = (3,3),padding = 'Same',activation ='relu'))\n",
    "model.add(MaxPooling2D(pool_size=(2,2), strides=(2,2)))\n",
    "\n",
    "model.add(Conv2D(filters = 96, kernel_size = (3,3),padding = 'Same',activation ='relu'))\n",
    "model.add(MaxPooling2D(pool_size=(2,2), strides=(2,2)))\n",
    "\n",
    "model.add(Flatten())\n",
    "model.add(Dense(512))\n",
    "model.add(Activation('relu'))\n",
    "model.add(Dense(6, activation = \"softmax\"))"
   ]
  },
  {
   "cell_type": "code",
   "execution_count": null,
   "metadata": {
    "colab": {
     "base_uri": "https://localhost:8080/",
     "height": 561
    },
    "colab_type": "code",
    "id": "J7803x7Yo4zI",
    "outputId": "62ed0802-2929-4e58-8c2e-5b2773f3a662"
   },
   "outputs": [],
   "source": [
    "model.summary()"
   ]
  },
  {
   "cell_type": "markdown",
   "metadata": {
    "colab_type": "text",
    "id": "duLyaq1Po1M-"
   },
   "source": [
    "### Step 15: compile the model"
   ]
  },
  {
   "cell_type": "code",
   "execution_count": null,
   "metadata": {
    "colab": {},
    "colab_type": "code",
    "id": "-JwJhXMfowFs"
   },
   "outputs": [],
   "source": [
    "#compile model using accuracy to measure model performance\n",
    "model.compile(     , , metrics=['accuracy'])"
   ]
  },
  {
   "cell_type": "markdown",
   "metadata": {
    "colab_type": "text",
    "id": "nMm31cr0o_gC"
   },
   "source": [
    "### Step 16: fit the model"
   ]
  },
  {
   "cell_type": "code",
   "execution_count": null,
   "metadata": {
    "colab": {
     "base_uri": "https://localhost:8080/",
     "height": 714
    },
    "colab_type": "code",
    "id": "hQLSSLwdpMvb",
    "outputId": "e9b25320-8dae-45c6-aa3f-e5a92b6325de"
   },
   "outputs": [],
   "source": [
    "#train the model\n",
    "hist = model.fit(   ,    , batch_size=20, epochs=20)"
   ]
  },
  {
   "cell_type": "markdown",
   "metadata": {
    "colab_type": "text",
    "id": "BNlBx7c9ph_q"
   },
   "source": [
    "### Step 17: evaluate the model"
   ]
  },
  {
   "cell_type": "code",
   "execution_count": null,
   "metadata": {
    "colab": {
     "base_uri": "https://localhost:8080/",
     "height": 295
    },
    "colab_type": "code",
    "id": "T16UHXK2plLy",
    "outputId": "b4006876-7724-49d7-ba33-d82cdb32be17"
   },
   "outputs": [],
   "source": [
    "plt.plot(hist.history['  '])\n",
    "plt.title('Model Loss')\n",
    "plt.ylabel('Loss')\n",
    "plt.xlabel('Epochs')\n",
    "plt.legend(['train'])\n",
    "plt.show()"
   ]
  },
  {
   "cell_type": "code",
   "execution_count": null,
   "metadata": {
    "colab": {
     "base_uri": "https://localhost:8080/",
     "height": 233
    },
    "colab_type": "code",
    "id": "CnQqoEQzpou6",
    "outputId": "d59adea4-46bb-4cd2-e678-34d16e6109af"
   },
   "outputs": [],
   "source": [
    "plt.plot(hist.history['accuracy'])\n",
    "plt.title('Model Accuracy')\n",
    "plt.ylabel('Accuracy')\n",
    "plt.xlabel('Epochs')\n",
    "plt.legend(['train'])\n",
    "plt.show()"
   ]
  },
  {
   "cell_type": "code",
   "execution_count": null,
   "metadata": {
    "colab": {
     "base_uri": "https://localhost:8080/",
     "height": 295
    },
    "colab_type": "code",
    "id": "Y5C_HZCJapJ8",
    "outputId": "b0e9cae3-3c5c-462d-dc20-652705556763"
   },
   "outputs": [],
   "source": [
    "#if tf.__version__ < \"2.x\":\n",
    "plt.plot(hist.history['acc'])\n",
    "plt.title('Model Accuracy')\n",
    "plt.ylabel('Accuracy')\n",
    "plt.xlabel('Epochs')\n",
    "plt.legend(['train'])\n",
    "plt.show()"
   ]
  },
  {
   "cell_type": "markdown",
   "metadata": {
    "colab_type": "text",
    "id": "TPdcWctoqtTN"
   },
   "source": [
    "### Step 18: predict with the model for the training set"
   ]
  },
  {
   "cell_type": "code",
   "execution_count": null,
   "metadata": {
    "colab": {
     "base_uri": "https://localhost:8080/",
     "height": 85
    },
    "colab_type": "code",
    "id": "RzSELOR6qhLL",
    "outputId": "bbf70d7f-38d5-4d81-e354-86f9c1ca7f25"
   },
   "outputs": [],
   "source": [
    "y_prediction = model.predict(     , batch_size=20)\n",
    "print(y_prediction[:2])"
   ]
  },
  {
   "cell_type": "code",
   "execution_count": null,
   "metadata": {
    "colab": {
     "base_uri": "https://localhost:8080/",
     "height": 34
    },
    "colab_type": "code",
    "id": "q3bZToPFxFCC",
    "outputId": "d592178f-c3ff-482e-b453-24e65df00326"
   },
   "outputs": [],
   "source": [
    "predict = \n",
    "print(predict[0:10])"
   ]
  },
  {
   "cell_type": "code",
   "execution_count": null,
   "metadata": {
    "colab": {
     "base_uri": "https://localhost:8080/",
     "height": 34
    },
    "colab_type": "code",
    "id": "nmtGxjp9wZzG",
    "outputId": "a51e22bd-edc4-45e8-f52c-b3399ef5c1f3"
   },
   "outputs": [],
   "source": [
    "print(train_labels[:10])"
   ]
  },
  {
   "cell_type": "markdown",
   "metadata": {
    "colab_type": "text",
    "id": "oBKauJVXboS0"
   },
   "source": [
    "### Step 19: Compute confusion matrix (混淆矩陣)"
   ]
  },
  {
   "cell_type": "code",
   "execution_count": null,
   "metadata": {
    "colab": {
     "base_uri": "https://localhost:8080/",
     "height": 119
    },
    "colab_type": "code",
    "id": "TS7rZxBM8d5n",
    "outputId": "7ce498f9-f205-49f5-f7df-6c28211aeb45"
   },
   "outputs": [],
   "source": [
    "from sklearn.metrics import confusion_matrix\n",
    "confusion=confusion_matrix(    ,    )\n",
    "print(confusion)"
   ]
  },
  {
   "cell_type": "markdown",
   "metadata": {
    "colab_type": "text",
    "id": "kud5SObxcJfW"
   },
   "source": [
    "### Step 20: Plot the confusion matrix"
   ]
  },
  {
   "cell_type": "code",
   "execution_count": null,
   "metadata": {
    "colab": {
     "base_uri": "https://localhost:8080/",
     "height": 445
    },
    "colab_type": "code",
    "id": "3ShKp1C7cIDx",
    "outputId": "d8436e59-edb2-4094-b9a8-2332a0a24cb6"
   },
   "outputs": [],
   "source": [
    "import seaborn as sn\n",
    "df_cm = pd.DataFrame(confusion)\n",
    "plt.figure(figsize = (10,7))\n",
    "sn.heatmap(    , annot=True, cmap=\"Blues\")"
   ]
  },
  {
   "cell_type": "markdown",
   "metadata": {
    "colab_type": "text",
    "id": "mtlmxU06N39M"
   },
   "source": [
    "### Step 21: List overkills and underkills"
   ]
  },
  {
   "cell_type": "code",
   "execution_count": null,
   "metadata": {
    "colab": {
     "base_uri": "https://localhost:8080/",
     "height": 34
    },
    "colab_type": "code",
    "id": "L1rAXZqi8z1S",
    "outputId": "7c40d5f9-f2a2-45d9-db9f-77103d066cce"
   },
   "outputs": [],
   "source": [
    "overkill= []\n",
    "underkill = []\n",
    "for i in range(train_num):\n",
    "  if train_labels[i] == 0 and :\n",
    "    overkill.append(i)\n",
    "  if train_labels[i] != 0 and :\n",
    "    underkill.append(i)\n",
    "print('# of overkill= {}; # of underkill= {} '.format(len(overkill), len(underkill)))"
   ]
  },
  {
   "cell_type": "markdown",
   "metadata": {
    "colab_type": "text",
    "id": "jWLAh9GoOErW"
   },
   "source": [
    "### Step 22: Check overkills"
   ]
  },
  {
   "cell_type": "code",
   "execution_count": null,
   "metadata": {
    "colab": {
     "base_uri": "https://localhost:8080/",
     "height": 729
    },
    "colab_type": "code",
    "id": "m-c1kbRs-5V2",
    "outputId": "29d9ac51-2cfb-4eaa-d45b-819f69fa59c6",
    "scrolled": true
   },
   "outputs": [],
   "source": [
    "#overkill\n",
    "overkill_num = len(overkill)\n",
    "no = 0\n",
    "fig,ax=plt.subplots(2, 3)\n",
    "fig.set_size_inches(10,10)\n",
    "for i in range(2):\n",
    "    for j in range (3):\n",
    "        if no>=overkill_num:\n",
    "          break \n",
    "        sel = overkill[no]\n",
    "        ax[i,j].imshow(train_images[sel], cmap='gray')\n",
    "        ax[i,j].set_title('No. {} Predicted Label:{} '.format(sel, predict[sel])) \n",
    "        no += 1\n",
    "plt.tight_layout()"
   ]
  },
  {
   "cell_type": "markdown",
   "metadata": {
    "colab_type": "text",
    "id": "tOoetwL-OJ0j"
   },
   "source": [
    "### Step 23: Check underkills"
   ]
  },
  {
   "cell_type": "code",
   "execution_count": null,
   "metadata": {
    "colab": {
     "base_uri": "https://localhost:8080/",
     "height": 671
    },
    "colab_type": "code",
    "id": "22alqJ2mCGCr",
    "outputId": "2e00173a-0900-4f3d-94f6-03c48611cb2f"
   },
   "outputs": [],
   "source": [
    "#underkill\n",
    "underkill_num = len(underkill)\n",
    "no = 0\n",
    "fig,ax=plt.subplots(2, 3)\n",
    "fig.set_size_inches(10,10)\n",
    "for i in range(2):\n",
    "    for j in range (3):\n",
    "        if no>=underkill_num:\n",
    "          break \n",
    "        sel = underkill[no]\n",
    "        ax[i,j].imshow(train_images[sel], cmap='gray')\n",
    "        ax[i,j].set_title('No. {} train_labels:{} '.format(sel, train_labels[sel])) \n",
    "        no += 1\n",
    "plt.tight_layout()"
   ]
  },
  {
   "cell_type": "markdown",
   "metadata": {
    "colab_type": "text",
    "id": "YTpHj6KqON2p"
   },
   "source": [
    "### Step 24: Save the model"
   ]
  },
  {
   "cell_type": "code",
   "execution_count": null,
   "metadata": {
    "colab": {},
    "colab_type": "code",
    "id": "3mMjp2aWv1-1"
   },
   "outputs": [],
   "source": [
    "model.save(\"AOICNN_10epochs-2020.h5\")"
   ]
  },
  {
   "cell_type": "code",
   "execution_count": null,
   "metadata": {
    "colab": {},
    "colab_type": "code",
    "id": "ATgitQgmCRwQ"
   },
   "outputs": [],
   "source": [
    "model = tf.keras.models.load_model('AOICNN_10epochs-2020.h5')\n",
    "model.summary()"
   ]
  },
  {
   "cell_type": "markdown",
   "metadata": {
    "colab_type": "text",
    "id": "rz2gbaoAOWn9"
   },
   "source": [
    "### Step 25: Delete training data in memory"
   ]
  },
  {
   "cell_type": "code",
   "execution_count": null,
   "metadata": {
    "colab": {},
    "colab_type": "code",
    "id": "_2QzQPosCEz_"
   },
   "outputs": [],
   "source": [
    "del train_images\n",
    "del X_train\n",
    "#Do GC\n",
    "import gc\n",
    "gc.collect()"
   ]
  },
  {
   "cell_type": "markdown",
   "metadata": {
    "colab_type": "text",
    "id": "eex13PoSr7jV"
   },
   "source": [
    "# (E) Output test result\n",
    "* 讀入測試資料"
   ]
  },
  {
   "cell_type": "markdown",
   "metadata": {
    "colab_type": "text",
    "id": "OQOsGChZsLdl"
   },
   "source": [
    "### Step 26: read lalels of the test set"
   ]
  },
  {
   "cell_type": "code",
   "execution_count": null,
   "metadata": {
    "colab": {},
    "colab_type": "code",
    "id": "n-TAY8FDr6tg"
   },
   "outputs": [],
   "source": [
    "df_test = pd.read_csv(data_path+ \"   \")\n",
    "print(df_test.shape)"
   ]
  },
  {
   "cell_type": "code",
   "execution_count": null,
   "metadata": {
    "colab": {},
    "colab_type": "code",
    "id": "osq_-V0juTAP"
   },
   "outputs": [],
   "source": [
    "df_test.head()"
   ]
  },
  {
   "cell_type": "markdown",
   "metadata": {
    "colab_type": "text",
    "id": "2dsiSfG5O_bh"
   },
   "source": [
    "### Step 27: Build the lists of test images and labels from the dataframe"
   ]
  },
  {
   "cell_type": "code",
   "execution_count": null,
   "metadata": {
    "colab": {},
    "colab_type": "code",
    "id": "8OtNMcQzukza"
   },
   "outputs": [],
   "source": [
    "test_num =  #limit the amount of training images for the class process\n",
    "#test_num = df_test.shape[0]\n",
    "if test_num >= df_test.shape[0]:\n",
    "  test_num = df_test.shape[0]\n",
    "test_files  = df_test.iloc[:test_num,0].values\n",
    "test_labels = df_test.iloc[:test_num,1].values\n",
    "print(test_labels[:10])"
   ]
  },
  {
   "cell_type": "markdown",
   "metadata": {
    "colab_type": "text",
    "id": "qoqVahV8uKgb"
   },
   "source": [
    "### Step 28: read images of the test set"
   ]
  },
  {
   "cell_type": "code",
   "execution_count": null,
   "metadata": {
    "colab": {},
    "colab_type": "code",
    "id": "slvrDPRn4wGM"
   },
   "outputs": [],
   "source": [
    "!ls '/content/drive/My Drive/aidea-aoi2/data/test_images/'"
   ]
  },
  {
   "cell_type": "code",
   "execution_count": null,
   "metadata": {
    "colab": {},
    "colab_type": "code",
    "id": "Egx4bvguudxg"
   },
   "outputs": [],
   "source": [
    "test_path = data_path+ \"test_images/\"\n",
    "test_images = []\n",
    "from tensorflow.keras.preprocessing import image\n",
    "for file in test_files:\n",
    "    img = image.load_img(test_path+file, color_mode=\"    \")\n",
    "    test_images.append(img)\n",
    "    if len(test_images)%100 == 0:\n",
    "      print('.', end='')\n",
    "print(len(test_images))"
   ]
  },
  {
   "cell_type": "markdown",
   "metadata": {
    "colab_type": "text",
    "id": "-gvEW_eFPXR7"
   },
   "source": [
    "### Step 29: show AOI test images: "
   ]
  },
  {
   "cell_type": "code",
   "execution_count": null,
   "metadata": {
    "colab": {},
    "colab_type": "code",
    "id": "Np8-PFi3y_jb"
   },
   "outputs": [],
   "source": [
    "import random\n",
    "fig,ax=plt.subplots(2,3)\n",
    "fig.set_size_inches(10,10)\n",
    "for i in range(2):\n",
    "    for j in range (3):\n",
    "        sel=random.randint(0,test_num)\n",
    "        ax[i,j].imshow(test_images[sel], cmap='gray')\n",
    "        ax[i,j].set_title('No. {} Label:Nan '.format(sel))       \n",
    "plt.tight_layout()"
   ]
  },
  {
   "cell_type": "markdown",
   "metadata": {
    "colab_type": "text",
    "id": "rtiESEH0P7ZC"
   },
   "source": [
    "### Step 30: Convert each test image into a numpy array and collect"
   ]
  },
  {
   "cell_type": "code",
   "execution_count": null,
   "metadata": {
    "colab": {},
    "colab_type": "code",
    "id": "abjUzpMovNF6"
   },
   "outputs": [],
   "source": [
    "arr = []\n",
    "from tensorflow.keras.preprocessing import image\n",
    "for img in test_images:\n",
    "\n",
    "    \n",
    "X_test = np.array(arr)\n",
    "print(X_test.shape)"
   ]
  },
  {
   "cell_type": "code",
   "execution_count": null,
   "metadata": {
    "colab": {},
    "colab_type": "code",
    "id": "BSovnmsY-e-F"
   },
   "outputs": [],
   "source": [
    "print(X_test[0, 0 , 0 , 0])"
   ]
  },
  {
   "cell_type": "markdown",
   "metadata": {
    "colab_type": "text",
    "id": "OnoE_xfPQFC4"
   },
   "source": [
    "### Step 31: predict with the model for the test set"
   ]
  },
  {
   "cell_type": "code",
   "execution_count": null,
   "metadata": {
    "colab": {},
    "colab_type": "code",
    "id": "SKdAFKlyvYQ2"
   },
   "outputs": [],
   "source": [
    "y_prediction = model.predict(X_test, batch_size=20)\n",
    "predict = \n",
    "print(predict[:20])"
   ]
  },
  {
   "cell_type": "markdown",
   "metadata": {
    "colab_type": "text",
    "id": "TULOb2c1QVei"
   },
   "source": [
    "### Step 32: show predictions "
   ]
  },
  {
   "cell_type": "code",
   "execution_count": null,
   "metadata": {
    "colab": {},
    "colab_type": "code",
    "id": "lYy0r5Px53-z"
   },
   "outputs": [],
   "source": [
    "import random\n",
    "fig,ax=plt.subplots(4,4)\n",
    "fig.set_size_inches(10,10)\n",
    "for i in range(4):\n",
    "    for j in range (4):\n",
    "        sel=random.randint(0,len(test_images))\n",
    "        ax[i,j].imshow(test_images[sel], cmap='gray')\n",
    "        ax[i,j].set_title('No. {} Predicted Label:{} '.format(sel, predict[sel]))       \n",
    "plt.tight_layout()"
   ]
  },
  {
   "cell_type": "markdown",
   "metadata": {},
   "source": [
    "### Step 33: output predictions"
   ]
  },
  {
   "cell_type": "code",
   "execution_count": null,
   "metadata": {
    "colab": {},
    "colab_type": "code",
    "id": "P6GljDcR6PH6"
   },
   "outputs": [],
   "source": [
    "df_out = pd.DataFrame(df_test.iloc[:test_num])\n",
    "df_out['Label'] = predict\n",
    "df_out.to_csv(\"submission-20200114A.csv\", index=False)"
   ]
  },
  {
   "cell_type": "code",
   "execution_count": null,
   "metadata": {
    "colab": {},
    "colab_type": "code",
    "id": "fbpojuBo9YxD"
   },
   "outputs": [],
   "source": []
  }
 ],
 "metadata": {
  "accelerator": "GPU",
  "colab": {
   "collapsed_sections": [],
   "name": "AOI-Tutorial-1-20200114.ipynb",
   "provenance": []
  },
  "kernelspec": {
   "display_name": "Python 3",
   "language": "python",
   "name": "python3"
  },
  "language_info": {
   "codemirror_mode": {
    "name": "ipython",
    "version": 3
   },
   "file_extension": ".py",
   "mimetype": "text/x-python",
   "name": "python",
   "nbconvert_exporter": "python",
   "pygments_lexer": "ipython3",
   "version": "3.7.1"
  }
 },
 "nbformat": 4,
 "nbformat_minor": 1
}
