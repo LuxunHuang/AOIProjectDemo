{
 "cells": [
  {
   "cell_type": "markdown",
   "metadata": {
    "colab_type": "text",
    "id": "yhFS0k6edj4s"
   },
   "source": [
    "# AOI Course (part 2) by Hsueh-Ting Chu, Asia University, Jan., 2020\n",
    "* 這個教程使用工研院AIdea人工智慧共創平台的AOI資料集做為練習的標的。\n",
    "* 介紹撰寫深度學習的程式來進行自動光學檢查的瑕疵分類。\n",
    "* 本notebook程式可以在雲端使用Google Colab或使用個人電腦上的Jupyter執行。\n",
    "\n",
    "AIdea人工智慧共創平台\n",
    "https://aidea-web.tw/topic/76f9ec46-cb90-4aa8-82f2-ebfed54cecfb\n",
    "\n",
    "朱學亭老師\n",
    "* EMAIL: htchu.taiwan@gmail.com\n",
    "* FB: https://www.facebook.com/htchu.taiwan\n"
   ]
  },
  {
   "cell_type": "markdown",
   "metadata": {
    "colab_type": "text",
    "id": "0KvrRl029pPB"
   },
   "source": [
    "#Tutorial 2: Transfer a CNN model for AOI \n",
    "\n",
    "<img src=\"https://www.oreilly.com/library/view/java-deep-learning/9781788997454/assets/74b69371-b7bf-47e7-8f0a-9ec9bde897ac.png\" alt=\"Transfer Learning\" width=\"400\"/>\n",
    "\n",
    "* Tutorial 2: use pretrained VGG-19 convolutional neural network for ImagenNet."
   ]
  },
  {
   "cell_type": "markdown",
   "metadata": {
    "colab_type": "text",
    "id": "BkguTuu0doDW"
   },
   "source": [
    "## (A) Use TF 2.0 (Optional)\n",
    "### Step 1: Choose tensorflow_version\n"
   ]
  },
  {
   "cell_type": "code",
   "execution_count": null,
   "metadata": {
    "colab": {
     "base_uri": "https://localhost:8080/",
     "height": 34
    },
    "colab_type": "code",
    "id": "l6aE0y5oc8Ec",
    "outputId": "7d6229b0-6449-47eb-95be-ab365385df4f"
   },
   "outputs": [],
   "source": [
    "try:\n",
    "  # %tensorflow_version only exists in Colab.\n",
    "  %\n",
    "except Exception:\n",
    "  pass\n",
    "\n",
    "import tensorflow as tf\n",
    "print(tf.__version__)"
   ]
  },
  {
   "cell_type": "markdown",
   "metadata": {
    "colab_type": "text",
    "id": "V53hmygqemr7"
   },
   "source": [
    "## (B) Setup Colab and mount the AOI data folder"
   ]
  },
  {
   "cell_type": "markdown",
   "metadata": {
    "colab_type": "text",
    "id": "IH_ca28KdtsE"
   },
   "source": [
    "### Step 2: Add the data folder to your Google drive\n",
    "Click https://drive.google.com/open?id=15tGIHAPAatgdB8iZh_m80jCBPa-CrI_P\n",
    "![alt text](https://lh3.googleusercontent.com/r-gU6GT4MshdPDeaTjSSUIQP63ExT1ufshFMFGAjDBhu00tu9jMbMwbnjfvjSO4Q6js31X6SfOmSmQxSBS02Uj2x5HAfNvI6lyWdbgIazAlB3OQfB7d3-Cte6GrbarZzHCi_XYeufeTw-eS3GGNeOdQra9mXofIwVNBS6116XCjkVOt0zUdzJsvo_7B6HuTZLenuqJW0cTsnPdjJ_NpYcc3pqLVNlgxc7pdVeNmLhpm4AQKH5bsc6CGwpiAluRMtlPw-MmVVEtLbqCysICOHfB9xyJsc-sG6NiuLxNU4B52FFA-3xA4kVK5_xFRLYQU3ZDM9N2uSFzMszNqoSuyQaLqCcEnJHuH3IbimQEoo613MJtXuGDNMBo0nyQpWMlrRcaorrcn1eOf9IfIwAdStEMNyk-yt3PbajKS1TUnOKPXrVrS2AZZECXR3I2Mu_HQb99MapFgAG5TEJBbp0Qacer5ksM70njl3exIlWR9CosN5FXFQnlW2pEVObL-i9buIt2OtEhl5SeURzNC1vPfI-q_Knb_3VEN5OIQIO8A_chs6OJgvKxqVddw6T0vcPrGitkiyudQ1kZSel7xrSzApGuNBmUzfDYVRhMIjNF3RL6O05-daZaCTbRXtY9gulVDCaoDV7TAgRpLa3n6Kvx54QnAHtj7wuowiv9_lreRRwy9qfzTzip0MVKE=w736-h172-no)"
   ]
  },
  {
   "cell_type": "markdown",
   "metadata": {
    "colab_type": "text",
    "id": "zkVGYc7jd47b"
   },
   "source": [
    "### Step 3: Mount the AOI folder\n",
    "If error, check https://myaccount.google.com/u/2/permissions "
   ]
  },
  {
   "cell_type": "code",
   "execution_count": null,
   "metadata": {
    "colab": {
     "base_uri": "https://localhost:8080/",
     "height": 122
    },
    "colab_type": "code",
    "id": "TdkP8Xp6ds4h",
    "outputId": "352c659c-7931-41b2-b40b-f812d47a3979"
   },
   "outputs": [],
   "source": [
    "#Step 3a: Mount your Google Drive\n",
    "from google.colab import drive\n",
    "drive.mount(\"/content/drive\", force_remount=True)"
   ]
  },
  {
   "cell_type": "code",
   "execution_count": null,
   "metadata": {
    "colab": {
     "base_uri": "https://localhost:8080/",
     "height": 34
    },
    "colab_type": "code",
    "id": "u7XTF3O0y5Si",
    "outputId": "421d2ee3-e1ea-459c-a874-2c4df16a3cd8"
   },
   "outputs": [],
   "source": [
    "#Step 3b: List the folder\n",
    "!ls \"/content/drive/My Drive\""
   ]
  },
  {
   "cell_type": "markdown",
   "metadata": {
    "colab_type": "text",
    "id": "jXHVH0h0eMAp"
   },
   "source": [
    "### Step 4: Check the AOI data path "
   ]
  },
  {
   "cell_type": "code",
   "execution_count": null,
   "metadata": {
    "colab": {
     "base_uri": "https://localhost:8080/",
     "height": 51
    },
    "colab_type": "code",
    "id": "Glk-MVCoeX2P",
    "outputId": "9700f252-8b22-4cf5-ea26-48905eafe2b2"
   },
   "outputs": [],
   "source": [
    "data_path = \"/content/drive/My Drive/aidea-aoi2/data/\"\n",
    "!ls \"/content/drive/My Drive/aidea-aoi2/data/\""
   ]
  },
  {
   "cell_type": "code",
   "execution_count": null,
   "metadata": {
    "colab": {},
    "colab_type": "code",
    "id": "abIOWNhXNVPp"
   },
   "outputs": [],
   "source": [
    "#alternative data path for local computer\n",
    "data_path = \"../data/\"\n",
    "#!ls \"../data/\"\n",
    "!dir/w \"../data/\""
   ]
  },
  {
   "cell_type": "markdown",
   "metadata": {
    "colab_type": "text",
    "id": "pR76TqqCiW4S"
   },
   "source": [
    "## (C) Input training data"
   ]
  },
  {
   "cell_type": "markdown",
   "metadata": {
    "colab_type": "text",
    "id": "jR_KADlQk7Gs"
   },
   "source": [
    "### Step 5: read lalels of the training set"
   ]
  },
  {
   "cell_type": "code",
   "execution_count": null,
   "metadata": {
    "colab": {
     "base_uri": "https://localhost:8080/",
     "height": 34
    },
    "colab_type": "code",
    "id": "iaFX5Cqgicw0",
    "outputId": "4a09abca-f552-413c-a989-edb1f1b6905b"
   },
   "outputs": [],
   "source": [
    "import pandas as pd\n",
    "df_train = pd.read_csv(data_path+ \"train.csv\")\n",
    "print(df_train.shape)"
   ]
  },
  {
   "cell_type": "code",
   "execution_count": null,
   "metadata": {
    "colab": {
     "base_uri": "https://localhost:8080/",
     "height": 204
    },
    "colab_type": "code",
    "id": "6dwc7F7dioM7",
    "outputId": "122a4e16-dd7d-4de9-99cd-476ef8854b85"
   },
   "outputs": [],
   "source": [
    "df_train.head()"
   ]
  },
  {
   "cell_type": "markdown",
   "metadata": {
    "colab_type": "text",
    "id": "WHjI9HpmRfac"
   },
   "source": [
    "### Step 6: Build the lists of training images and labels from the dataframe"
   ]
  },
  {
   "cell_type": "code",
   "execution_count": null,
   "metadata": {
    "colab": {
     "base_uri": "https://localhost:8080/",
     "height": 34
    },
    "colab_type": "code",
    "id": "LizhcbfXis75",
    "outputId": "965f19f2-8e5b-4e15-b730-55201ea6365a"
   },
   "outputs": [],
   "source": [
    "#limit the amount of training images for the class process\n",
    "#train_num = 480\n",
    "train_num = df_train.shape[0]\n",
    "if train_num >= df_train.shape[0]:\n",
    "  train_num = df_train.shape[0]\n",
    "train_files = df_train.iloc[:train_num,0].values\n",
    "\n",
    "print(train_labels[:20])"
   ]
  },
  {
   "cell_type": "markdown",
   "metadata": {
    "colab_type": "text",
    "id": "uImM5L4DlG4X"
   },
   "source": [
    "### Step 7: read images of the training set"
   ]
  },
  {
   "cell_type": "code",
   "execution_count": null,
   "metadata": {
    "colab": {
     "base_uri": "https://localhost:8080/",
     "height": 34
    },
    "colab_type": "code",
    "id": "V2GH166li2f6",
    "outputId": "c1d40ea1-6785-4fb9-e785-92f091236aae"
   },
   "outputs": [],
   "source": [
    "train_path = data_path+ \"train_images/\"\n",
    "train_images = []\n",
    "from tensorflow.keras.preprocessing import image\n",
    "for file in train_files:\n",
    "    img = image.load_img(train_path+file,     ,    )\n",
    "    train_images.append(img)\n",
    "    if len(train_images)%100 == 0:\n",
    "      print('.', end='')\n",
    "print(len(train_images))"
   ]
  },
  {
   "cell_type": "markdown",
   "metadata": {
    "colab_type": "text",
    "id": "acQAGGlik5Gz"
   },
   "source": [
    "### Step 8: show AOI images of the classes: \n",
    "0 (normal), 1 (void), 2 (horizontal  defect) 3 (vertical defect), 4 (edge defect), 5 (particle)"
   ]
  },
  {
   "cell_type": "code",
   "execution_count": null,
   "metadata": {
    "colab": {},
    "colab_type": "code",
    "id": "TqB5T0_yk21r"
   },
   "outputs": [],
   "source": [
    "import matplotlib.pyplot as plt\n",
    "%matplotlib inline"
   ]
  },
  {
   "cell_type": "code",
   "execution_count": null,
   "metadata": {
    "colab": {
     "base_uri": "https://localhost:8080/",
     "height": 593
    },
    "colab_type": "code",
    "id": "8xBuhRnLlmTM",
    "outputId": "d15f4005-a322-4ab1-ba52-9bdb73f167ad"
   },
   "outputs": [],
   "source": [
    "import random\n",
    "curclass = 0\n",
    "fig,ax=plt.subplots(2, 3)\n",
    "fig.set_size_inches(10,10)\n",
    "for i in range(2):\n",
    "    for j in range (3):\n",
    "        sel=random.randint(0,  )\n",
    "        while train_labels[sel]!=curclass:\n",
    "          sel +=1\n",
    "          if sel == train_num -1:\n",
    "            sel = 0\n",
    "        curclass += 1\n",
    "        curclass %= 6\n",
    "        #sel=random.randint(0,train_num)\n",
    "        ax[i,j].imshow(train_images[sel], cmap='gray')\n",
    "        ax[i,j].set_title('No. {} Label:{} '.format(sel, train_labels[sel]))       \n",
    "plt.tight_layout()"
   ]
  },
  {
   "cell_type": "markdown",
   "metadata": {
    "colab_type": "text",
    "id": "eMxY9IGumAew"
   },
   "source": [
    "Step 9: Show statistics of training images in the 6 classes"
   ]
  },
  {
   "cell_type": "code",
   "execution_count": null,
   "metadata": {
    "colab": {
     "base_uri": "https://localhost:8080/",
     "height": 34
    },
    "colab_type": "code",
    "id": "SGZkuGS3mTCO",
    "outputId": "497165e4-9abd-42d8-b294-8f8c4158fb8f"
   },
   "outputs": [],
   "source": [
    "import numpy as np\n",
    "labels, counts = \n",
    "print(labels, counts)"
   ]
  },
  {
   "cell_type": "markdown",
   "metadata": {
    "colab_type": "text",
    "id": "lYN-G0YDV_9X"
   },
   "source": [
    "### Step 10: Plot the counts "
   ]
  },
  {
   "cell_type": "code",
   "execution_count": null,
   "metadata": {
    "colab": {
     "base_uri": "https://localhost:8080/",
     "height": 350
    },
    "colab_type": "code",
    "id": "MTX_Anx0mWzQ",
    "outputId": "c129ab02-c28b-41a4-8939-11b842e72421"
   },
   "outputs": [],
   "source": [
    "fig = plt.figure(figsize=(8, 5))\n",
    "plt.bar(    ,    , width=0.7, align='center')\n",
    "plt.title(\"Label Distribution\")\n",
    "plt.xlabel('Label')\n",
    "plt.ylabel('Count')\n",
    "plt.xticks(labels)\n",
    "plt.ylim(0, 680)\n",
    "\n",
    "for a, b in zip(labels, counts):\n",
    "    plt.text(a, b, '%d' % b, ha='center', va='bottom', fontsize=10)\n",
    "plt.show()"
   ]
  },
  {
   "cell_type": "markdown",
   "metadata": {
    "colab_type": "text",
    "id": "ZD4ZBffHX71W"
   },
   "source": [
    "### Step 11: Check the shape of single image "
   ]
  },
  {
   "cell_type": "code",
   "execution_count": null,
   "metadata": {
    "colab": {
     "base_uri": "https://localhost:8080/",
     "height": 34
    },
    "colab_type": "code",
    "id": "iqQjygi1m_qS",
    "outputId": "721228b4-c73b-4993-aa4f-02194637cd4d"
   },
   "outputs": [],
   "source": [
    "from tensorflow.keras.preprocessing.image import img_to_array\n",
    "# convert to numpy array\n",
    "img_array0 = img_to_array(train_images[0])\n",
    "print(img_array0.shape)\n",
    "del img_array0"
   ]
  },
  {
   "cell_type": "markdown",
   "metadata": {
    "colab_type": "text",
    "id": "OQtcWITNcMHK"
   },
   "source": [
    "### Step 12: Convert each training image into a numpy array and collect\n",
    "<img src=\"https://miro.medium.com/max/1571/1*XB4SlSGxGKFQbIBoil0aDg.png\" alt=\"Pre-train models\" width=\"500\">\n",
    "\n",
    "Pre-train models of tf.Keras includes Xception、VGG16、VGG19、ResNet50、InceptionV3、InceptionResNetV2、MobileNet、DenseNet、NASNet、MobileNetV2"
   ]
  },
  {
   "cell_type": "code",
   "execution_count": null,
   "metadata": {
    "colab": {
     "base_uri": "https://localhost:8080/",
     "height": 34
    },
    "colab_type": "code",
    "id": "BkwlHXQunZ02",
    "outputId": "efacafcd-439a-4113-d048-70a1177ef8e5"
   },
   "outputs": [],
   "source": [
    "arr = []\n",
    "from tensorflow.keras.preprocessing.image import img_to_array\n",
    "from tensorflow.python.keras.applications.imagenet_utils import preprocess_input\n",
    "for img in train_images:\n",
    "    x = image.img_to_array(img)\n",
    "    img_array = \n",
    "    arr.append(img_array)\n",
    "X_train = np.array(arr)\n",
    "print(X_train.shape)"
   ]
  },
  {
   "cell_type": "code",
   "execution_count": null,
   "metadata": {
    "colab": {
     "base_uri": "https://localhost:8080/",
     "height": 34
    },
    "colab_type": "code",
    "id": "EOAJl-PmnwyK",
    "outputId": "ba44168d-2d1c-486b-accc-09d47bda9165"
   },
   "outputs": [],
   "source": [
    "# The pixel value in [0,1)\n",
    "print(X_train[0, 0 , 0 , 0])"
   ]
  },
  {
   "cell_type": "markdown",
   "metadata": {
    "colab_type": "text",
    "id": "-I-AK1OYak6H"
   },
   "source": [
    "### Step 13:One-hot encoding for labels"
   ]
  },
  {
   "cell_type": "code",
   "execution_count": null,
   "metadata": {
    "colab": {
     "base_uri": "https://localhost:8080/",
     "height": 136
    },
    "colab_type": "code",
    "id": "bxVgqD0dpIIm",
    "outputId": "8b66b430-a30e-4fc8-8014-1704546fc1c3"
   },
   "outputs": [],
   "source": [
    "from tensorflow.keras.utils import to_categorical\n",
    "# one-hot encoding\n",
    "num_classes = 6\n",
    "y_train = to_categorical(train_labels, num_classes)\n",
    "print(y_train)"
   ]
  },
  {
   "cell_type": "markdown",
   "metadata": {
    "colab_type": "text",
    "id": "vl4h6VufoNwU"
   },
   "source": [
    "## (D) Model training and inference, including: \n",
    "定義（define）, 編譯（compile）, 訓練（fit）, 評估（evaluate）, 預測（prediction） "
   ]
  },
  {
   "cell_type": "markdown",
   "metadata": {
    "colab_type": "text",
    "id": "VDkl3H-woXKA"
   },
   "source": [
    "### Step 14: define the CNN model"
   ]
  },
  {
   "cell_type": "code",
   "execution_count": null,
   "metadata": {
    "colab": {},
    "colab_type": "code",
    "id": "5Y-15yJXn_LM"
   },
   "outputs": [],
   "source": [
    "from tensorflow.keras import Sequential\n",
    "from tensorflow.keras.models import Model\n",
    "from tensorflow.keras.layers import Dense, Activation, Flatten\n",
    "from tensorflow.keras.layers import Input\n",
    "from tensorflow.keras.layers import Dropout, Flatten, Activation\n",
    "from tensorflow.keras.layers import Conv2D, MaxPooling2D\n",
    "from tensorflow.keras.optimizers import Adam,SGD,Adagrad,Adadelta,RMSprop\n",
    "from tensorflow.keras.applications.vgg19 import VGG19"
   ]
  },
  {
   "cell_type": "code",
   "execution_count": null,
   "metadata": {
    "colab": {
     "base_uri": "https://localhost:8080/",
     "height": 1000
    },
    "colab_type": "code",
    "id": "ZSObvzWmofw_",
    "outputId": "66a67995-e74b-4a34-8c1c-ada280d7c1f2"
   },
   "outputs": [],
   "source": [
    "#Use the VGG19 model \n",
    "image_input = Input(shape=(224, 224, 3))\n",
    "###  CODE HERE ###  (≈ 1 lines)\n",
    "vgg_model = VGG19(input_tensor=image_input, include_top=True, weights='imagenet')\n",
    "vgg_model.summary()"
   ]
  },
  {
   "cell_type": "code",
   "execution_count": null,
   "metadata": {
    "colab": {
     "base_uri": "https://localhost:8080/",
     "height": 1000
    },
    "colab_type": "code",
    "id": "yv9FohfRfmRs",
    "outputId": "b2825880-bdf4-498d-ac5d-7b029a3020c5"
   },
   "outputs": [],
   "source": [
    "last_layer = vgg_model.get_layer('fc2').output\n",
    "out = Dense(num_classes, activation='softmax', name='output')(last_layer)\n",
    "model = Model(image_input, out)\n",
    "for layer in model.layers[:-1]:\n",
    "    layer.trainable = "
   ]
  },
  {
   "cell_type": "code",
   "execution_count": null,
   "metadata": {
    "colab": {
     "base_uri": "https://localhost:8080/",
     "height": 1000
    },
    "colab_type": "code",
    "id": "J7803x7Yo4zI",
    "outputId": "0c21eabe-61dc-49b8-d697-f8f1602b6f95"
   },
   "outputs": [],
   "source": [
    "model.summary()"
   ]
  },
  {
   "cell_type": "markdown",
   "metadata": {
    "colab_type": "text",
    "id": "duLyaq1Po1M-"
   },
   "source": [
    "### Step 15: compile the model"
   ]
  },
  {
   "cell_type": "code",
   "execution_count": null,
   "metadata": {
    "colab": {},
    "colab_type": "code",
    "id": "-JwJhXMfowFs"
   },
   "outputs": [],
   "source": [
    "#compile model using accuracy to measure model performance\n",
    "model.compile(optimizer='   ', loss='    ', metrics=['accuracy'])"
   ]
  },
  {
   "cell_type": "markdown",
   "metadata": {
    "colab_type": "text",
    "id": "nMm31cr0o_gC"
   },
   "source": [
    "### Step 16: fit the model"
   ]
  },
  {
   "cell_type": "code",
   "execution_count": null,
   "metadata": {
    "colab": {
     "base_uri": "https://localhost:8080/",
     "height": 714
    },
    "colab_type": "code",
    "id": "hQLSSLwdpMvb",
    "outputId": "f3bccd95-984c-46ae-eb99-e8c17c88d020"
   },
   "outputs": [],
   "source": [
    "#train the model\n",
    "hist = model.fit(X_train, y_train, batch_size=20, epochs=20)"
   ]
  },
  {
   "cell_type": "markdown",
   "metadata": {
    "colab_type": "text",
    "id": "BNlBx7c9ph_q"
   },
   "source": [
    "### Step 17: evaluate the model"
   ]
  },
  {
   "cell_type": "code",
   "execution_count": null,
   "metadata": {
    "colab": {
     "base_uri": "https://localhost:8080/",
     "height": 295
    },
    "colab_type": "code",
    "id": "T16UHXK2plLy",
    "outputId": "106399bb-5f40-4d40-aabf-c0a04dde7d3e"
   },
   "outputs": [],
   "source": [
    "plt.plot(hist.history['  '])\n",
    "plt.title('Model Loss')\n",
    "plt.ylabel('Loss')\n",
    "plt.xlabel('Epochs')\n",
    "plt.legend(['train'])\n",
    "plt.show()"
   ]
  },
  {
   "cell_type": "code",
   "execution_count": null,
   "metadata": {
    "colab": {
     "base_uri": "https://localhost:8080/",
     "height": 295
    },
    "colab_type": "code",
    "id": "CnQqoEQzpou6",
    "outputId": "939244fd-d926-49b0-81de-b3a8699726b4"
   },
   "outputs": [],
   "source": [
    "plt.plot(hist.history['   '])\n",
    "plt.title('Model Accuracy')\n",
    "plt.ylabel('Accuracy')\n",
    "plt.xlabel('Epochs')\n",
    "plt.legend(['train'])\n",
    "plt.show()"
   ]
  },
  {
   "cell_type": "code",
   "execution_count": null,
   "metadata": {
    "colab": {},
    "colab_type": "code",
    "id": "snG7rGPBiI9-"
   },
   "outputs": [],
   "source": [
    "#if tf.__version__ < \"2.x\":\n",
    "plt.plot(hist.history['   '])\n",
    "plt.title('Model Accuracy')\n",
    "plt.ylabel('Accuracy')\n",
    "plt.xlabel('Epochs')\n",
    "plt.legend(['train'])\n",
    "plt.show()"
   ]
  },
  {
   "cell_type": "markdown",
   "metadata": {
    "colab_type": "text",
    "id": "TPdcWctoqtTN"
   },
   "source": [
    "### Step 18: predict with the model for the training set"
   ]
  },
  {
   "cell_type": "code",
   "execution_count": null,
   "metadata": {
    "colab": {
     "base_uri": "https://localhost:8080/",
     "height": 85
    },
    "colab_type": "code",
    "id": "RzSELOR6qhLL",
    "outputId": "ba56ea1c-be02-4344-db0e-6299dd0ef090"
   },
   "outputs": [],
   "source": [
    "y_prediction = model.predict(X_train, batch_size=20)\n",
    "print(y_prediction[:2])"
   ]
  },
  {
   "cell_type": "code",
   "execution_count": null,
   "metadata": {
    "colab": {
     "base_uri": "https://localhost:8080/",
     "height": 34
    },
    "colab_type": "code",
    "id": "q3bZToPFxFCC",
    "outputId": "648fcb89-c63d-400d-9b42-1b4375521e31"
   },
   "outputs": [],
   "source": [
    "predict = np.argmax(y_prediction,axis=1)\n",
    "print(predict[0:10])"
   ]
  },
  {
   "cell_type": "code",
   "execution_count": null,
   "metadata": {
    "colab": {
     "base_uri": "https://localhost:8080/",
     "height": 34
    },
    "colab_type": "code",
    "id": "nmtGxjp9wZzG",
    "outputId": "38fcdeea-9797-4cbf-da5a-66cd01e09fc7"
   },
   "outputs": [],
   "source": [
    "print(train_labels[:10])"
   ]
  },
  {
   "cell_type": "markdown",
   "metadata": {
    "colab_type": "text",
    "id": "oBKauJVXboS0"
   },
   "source": [
    "### Step 19: Compute confusion matrix (混淆矩陣)"
   ]
  },
  {
   "cell_type": "code",
   "execution_count": null,
   "metadata": {
    "colab": {
     "base_uri": "https://localhost:8080/",
     "height": 119
    },
    "colab_type": "code",
    "id": "TS7rZxBM8d5n",
    "outputId": "3c52b495-9735-4156-d64c-9323ef878b21"
   },
   "outputs": [],
   "source": [
    "from sklearn.metrics import confusion_matrix\n",
    "confusion=confusion_matrix(train_labels, predict)\n",
    "print(confusion)"
   ]
  },
  {
   "cell_type": "markdown",
   "metadata": {
    "colab_type": "text",
    "id": "kud5SObxcJfW"
   },
   "source": [
    "### Step 20: Plot the confusion matrix"
   ]
  },
  {
   "cell_type": "code",
   "execution_count": null,
   "metadata": {
    "colab": {
     "base_uri": "https://localhost:8080/",
     "height": 445
    },
    "colab_type": "code",
    "id": "3ShKp1C7cIDx",
    "outputId": "108c2b38-dd6f-4ad3-9ba2-9a0973bcd6c5"
   },
   "outputs": [],
   "source": [
    "import seaborn as sn\n",
    "df_cm = pd.DataFrame(confusion)\n",
    "plt.figure(figsize = (10,7))\n",
    "sn.heatmap(df_cm, annot=True, cmap=\"Blues\")"
   ]
  },
  {
   "cell_type": "markdown",
   "metadata": {
    "colab_type": "text",
    "id": "mtlmxU06N39M"
   },
   "source": [
    "### Step 21: List overkills and underkills"
   ]
  },
  {
   "cell_type": "code",
   "execution_count": null,
   "metadata": {
    "colab": {
     "base_uri": "https://localhost:8080/",
     "height": 34
    },
    "colab_type": "code",
    "id": "L1rAXZqi8z1S",
    "outputId": "94e60e71-127f-4b4c-d024-b7a1eca968f0"
   },
   "outputs": [],
   "source": [
    "overkill= []\n",
    "underkill = []\n",
    "for i in range(train_num):\n",
    "  if train_labels[i] == 0 and predict[i] !=0:\n",
    "    overkill.append(i)\n",
    "  if train_labels[i] != 0 and predict[i] ==0:\n",
    "    underkill.append(i)\n",
    "print('# of overkill= {}; # of underkill= {} '.format(len(overkill), len(underkill)))"
   ]
  },
  {
   "cell_type": "markdown",
   "metadata": {
    "colab_type": "text",
    "id": "jWLAh9GoOErW"
   },
   "source": [
    "### Step 22: Check overkills"
   ]
  },
  {
   "cell_type": "code",
   "execution_count": null,
   "metadata": {
    "colab": {
     "base_uri": "https://localhost:8080/",
     "height": 593
    },
    "colab_type": "code",
    "id": "m-c1kbRs-5V2",
    "outputId": "f540c762-99c7-4e1c-c4e7-e4004d4eb3bb"
   },
   "outputs": [],
   "source": [
    "#overkill\n",
    "overkill_num = len(overkill)\n",
    "no = 0\n",
    "fig,ax=plt.subplots(2, 3)\n",
    "fig.set_size_inches(10,10)\n",
    "for i in range(2):\n",
    "    for j in range (3):\n",
    "        if no>=overkill_num:\n",
    "          break \n",
    "        sel = overkill[no]\n",
    "        ax[i,j].imshow(train_images[sel], cmap='gray')\n",
    "        ax[i,j].set_title('No. {} Predicted Label:{} '.format(sel, predict[sel])) \n",
    "        no += 1\n",
    "plt.tight_layout()"
   ]
  },
  {
   "cell_type": "markdown",
   "metadata": {
    "colab_type": "text",
    "id": "tOoetwL-OJ0j"
   },
   "source": [
    "### Step 23: Check underkills"
   ]
  },
  {
   "cell_type": "code",
   "execution_count": null,
   "metadata": {
    "colab": {
     "base_uri": "https://localhost:8080/",
     "height": 593
    },
    "colab_type": "code",
    "id": "22alqJ2mCGCr",
    "outputId": "a577fccc-4558-4756-c511-ac32c0820c42"
   },
   "outputs": [],
   "source": [
    "#underkill\n",
    "underkill_num = len(underkill)\n",
    "no = 0\n",
    "fig,ax=plt.subplots(2, 3)\n",
    "fig.set_size_inches(10,10)\n",
    "for i in range(2):\n",
    "    for j in range (3):\n",
    "        if no>=underkill_num:\n",
    "          break \n",
    "        sel = underkill[no]\n",
    "        ax[i,j].imshow(train_images[sel], cmap='gray')\n",
    "        ax[i,j].set_title('No. {} train_labels:{} '.format(sel, train_labels[sel])) \n",
    "        no += 1\n",
    "plt.tight_layout()"
   ]
  },
  {
   "cell_type": "markdown",
   "metadata": {
    "colab_type": "text",
    "id": "YTpHj6KqON2p"
   },
   "source": [
    "### Step 24: Save the model"
   ]
  },
  {
   "cell_type": "code",
   "execution_count": null,
   "metadata": {
    "colab": {},
    "colab_type": "code",
    "id": "3mMjp2aWv1-1"
   },
   "outputs": [],
   "source": [
    "model.save(\"AOIVGG_20epochs-2020.h5\")"
   ]
  },
  {
   "cell_type": "code",
   "execution_count": null,
   "metadata": {
    "colab": {},
    "colab_type": "code",
    "id": "ATgitQgmCRwQ"
   },
   "outputs": [],
   "source": [
    "model = tf.keras.models.load_model('AOIVGG_20epochs-2020.h5')\n",
    "model.summary()"
   ]
  },
  {
   "cell_type": "markdown",
   "metadata": {
    "colab_type": "text",
    "id": "rz2gbaoAOWn9"
   },
   "source": [
    "### Step 25: Delete training data in memory"
   ]
  },
  {
   "cell_type": "code",
   "execution_count": null,
   "metadata": {
    "colab": {},
    "colab_type": "code",
    "id": "_2QzQPosCEz_"
   },
   "outputs": [],
   "source": [
    "del train_images\n",
    "del X_train\n",
    "#Do GC\n",
    "import gc\n",
    "gc.collect()"
   ]
  },
  {
   "cell_type": "markdown",
   "metadata": {
    "colab_type": "text",
    "id": "eex13PoSr7jV"
   },
   "source": [
    "# (E) Output test result\n",
    "* 讀入測試資料"
   ]
  },
  {
   "cell_type": "markdown",
   "metadata": {
    "colab_type": "text",
    "id": "OQOsGChZsLdl"
   },
   "source": [
    "### Step 26: read lalels of the test set"
   ]
  },
  {
   "cell_type": "code",
   "execution_count": null,
   "metadata": {
    "colab": {
     "base_uri": "https://localhost:8080/",
     "height": 34
    },
    "colab_type": "code",
    "id": "n-TAY8FDr6tg",
    "outputId": "ebddb14a-7049-48ec-ff47-f46345fde5b2"
   },
   "outputs": [],
   "source": [
    "df_test = pd.read_csv(data_path+ \"test.csv\")\n",
    "print(df_test.shape)"
   ]
  },
  {
   "cell_type": "code",
   "execution_count": null,
   "metadata": {
    "colab": {
     "base_uri": "https://localhost:8080/",
     "height": 204
    },
    "colab_type": "code",
    "id": "osq_-V0juTAP",
    "outputId": "31b2c873-6a38-4608-91d4-338e9b909c1b"
   },
   "outputs": [],
   "source": [
    "df_test.head()"
   ]
  },
  {
   "cell_type": "markdown",
   "metadata": {
    "colab_type": "text",
    "id": "2dsiSfG5O_bh"
   },
   "source": [
    "### Step 27: Build the lists of test images and labels from the dataframe"
   ]
  },
  {
   "cell_type": "code",
   "execution_count": null,
   "metadata": {
    "colab": {
     "base_uri": "https://localhost:8080/",
     "height": 34
    },
    "colab_type": "code",
    "id": "8OtNMcQzukza",
    "outputId": "518a4b56-bf8b-4797-9625-7733d56a55ad"
   },
   "outputs": [],
   "source": [
    "#test_num = df_test.shape[0]\n",
    "test_num = 480 #limit the amount of training images for the class process\n",
    "if test_num >= df_test.shape[0]:\n",
    "  test_num = df_test.shape[0]\n",
    "\n",
    "test_files  = df_test.iloc[:test_num,0].values\n",
    "test_labels = df_test.iloc[:test_num,1].values\n",
    "print(test_labels[:10])"
   ]
  },
  {
   "cell_type": "markdown",
   "metadata": {
    "colab_type": "text",
    "id": "qoqVahV8uKgb"
   },
   "source": [
    "### Step 28: read images of the test set"
   ]
  },
  {
   "cell_type": "code",
   "execution_count": null,
   "metadata": {
    "colab": {},
    "colab_type": "code",
    "id": "slvrDPRn4wGM"
   },
   "outputs": [],
   "source": [
    "!ls '/content/drive/My Drive/aidea-aoi2/data/test_images/'"
   ]
  },
  {
   "cell_type": "code",
   "execution_count": null,
   "metadata": {
    "colab": {
     "base_uri": "https://localhost:8080/",
     "height": 34
    },
    "colab_type": "code",
    "id": "4OWjOr5pljGz",
    "outputId": "4ffe890f-8938-4d6c-9cc2-e0c9dde15c1d"
   },
   "outputs": [],
   "source": [
    "test_path = data_path+ \"test_images/\"\n",
    "test_images = []\n",
    "from tensorflow.keras.preprocessing import image\n",
    "for file in test_files:\n",
    "    img = image.load_img(test_path+file, color_mode=\"   \", target_size = (224, 224))\n",
    "    test_images.append(img)\n",
    "    if len(test_images)%100 == 0:\n",
    "      print('.', end='')\n",
    "print(len(test_images))"
   ]
  },
  {
   "cell_type": "markdown",
   "metadata": {
    "colab_type": "text",
    "id": "-gvEW_eFPXR7"
   },
   "source": [
    "### Step 29: show AOI test images: "
   ]
  },
  {
   "cell_type": "code",
   "execution_count": null,
   "metadata": {
    "colab": {
     "base_uri": "https://localhost:8080/",
     "height": 593
    },
    "colab_type": "code",
    "id": "Np8-PFi3y_jb",
    "outputId": "e10177d2-941f-4337-980d-cdc978079a1e"
   },
   "outputs": [],
   "source": [
    "import random\n",
    "fig,ax=plt.subplots(2,3)\n",
    "fig.set_size_inches(10,10)\n",
    "for i in range(2):\n",
    "    for j in range (3):\n",
    "        sel=random.randint(0,test_num)\n",
    "        ax[i,j].imshow(test_images[sel], cmap='gray')\n",
    "        ax[i,j].set_title('No. {} Label:Nan '.format(sel))       \n",
    "plt.tight_layout()"
   ]
  },
  {
   "cell_type": "markdown",
   "metadata": {
    "colab_type": "text",
    "id": "rtiESEH0P7ZC"
   },
   "source": [
    "### Step 30: Convert each test image into a numpy array and collect"
   ]
  },
  {
   "cell_type": "code",
   "execution_count": null,
   "metadata": {
    "colab": {
     "base_uri": "https://localhost:8080/",
     "height": 279
    },
    "colab_type": "code",
    "id": "abjUzpMovNF6",
    "outputId": "fc89c8fd-8059-46e2-bfee-bb56e3904f9c"
   },
   "outputs": [],
   "source": [
    "arr = []\n",
    "from tensorflow.keras.preprocessing.image import img_to_array\n",
    "from tensorflow.python.keras.applications.imagenet_utils import preprocess_input\n",
    "for img in test_images:\n",
    "    x = image.img_to_array(img)\n",
    "    img_array = \n",
    "    arr.append(img_array)\n",
    "X_test = np.array(arr)\n",
    "print(X_test.shape)"
   ]
  },
  {
   "cell_type": "code",
   "execution_count": null,
   "metadata": {
    "colab": {},
    "colab_type": "code",
    "id": "BSovnmsY-e-F"
   },
   "outputs": [],
   "source": [
    "print(X_test[0, 0 , 0 , 0])"
   ]
  },
  {
   "cell_type": "markdown",
   "metadata": {
    "colab_type": "text",
    "id": "OnoE_xfPQFC4"
   },
   "source": [
    "### Step 31: predict with the model for the test set"
   ]
  },
  {
   "cell_type": "code",
   "execution_count": null,
   "metadata": {
    "colab": {},
    "colab_type": "code",
    "id": "SKdAFKlyvYQ2"
   },
   "outputs": [],
   "source": [
    "y_prediction = model.predict(X_test, batch_size=20)\n",
    "predict = np.argmax(y_prediction,axis=1)\n",
    "print(predict[:20])"
   ]
  },
  {
   "cell_type": "markdown",
   "metadata": {
    "colab_type": "text",
    "id": "TULOb2c1QVei"
   },
   "source": [
    "### Step 32: show predictions "
   ]
  },
  {
   "cell_type": "code",
   "execution_count": null,
   "metadata": {
    "colab": {},
    "colab_type": "code",
    "id": "lYy0r5Px53-z"
   },
   "outputs": [],
   "source": [
    "import random\n",
    "fig,ax=plt.subplots(4,4)\n",
    "fig.set_size_inches(10,10)\n",
    "for i in range(4):\n",
    "    for j in range (4):\n",
    "        sel=random.randint(0,len(test_images))\n",
    "        ax[i,j].imshow(test_images[sel], cmap='gray')\n",
    "        ax[i,j].set_title('No. {} Predicted Label:{} '.format(sel, predict[sel]))       \n",
    "plt.tight_layout()"
   ]
  },
  {
   "cell_type": "markdown",
   "metadata": {},
   "source": [
    "### Step 33: output predictions"
   ]
  },
  {
   "cell_type": "code",
   "execution_count": null,
   "metadata": {
    "colab": {},
    "colab_type": "code",
    "id": "P6GljDcR6PH6"
   },
   "outputs": [],
   "source": [
    "df_out = pd.DataFrame(df_test.iloc[:test_num])\n",
    "df_out['Label'] = predict\n",
    "df_out.to_csv(\"submission-20200114B.csv\", index=False)"
   ]
  }
 ],
 "metadata": {
  "accelerator": "GPU",
  "colab": {
   "collapsed_sections": [],
   "machine_shape": "hm",
   "name": "AOI-Tutorial-2-20200114.ipynb",
   "provenance": []
  },
  "kernelspec": {
   "display_name": "Python 3",
   "language": "python",
   "name": "python3"
  },
  "language_info": {
   "codemirror_mode": {
    "name": "ipython",
    "version": 3
   },
   "file_extension": ".py",
   "mimetype": "text/x-python",
   "name": "python",
   "nbconvert_exporter": "python",
   "pygments_lexer": "ipython3",
   "version": "3.7.1"
  }
 },
 "nbformat": 4,
 "nbformat_minor": 1
}
