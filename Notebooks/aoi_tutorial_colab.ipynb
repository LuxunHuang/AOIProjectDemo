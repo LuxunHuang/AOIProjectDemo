{
  "nbformat": 4,
  "nbformat_minor": 0,
  "metadata": {
    "colab": {
      "name": "aoi-tutorial-v20191216.ipynb",
      "provenance": [],
      "collapsed_sections": []
    },
    "kernelspec": {
      "name": "python3",
      "display_name": "Python 3"
    },
    "accelerator": "GPU"
  },
  "cells": [
    {
      "cell_type": "markdown",
      "metadata": {
        "id": "tbR2crR2S75Q",
        "colab_type": "text"
      },
      "source": [
        "# AOI Tutorial@AsiaUniversity"
      ]
    },
    {
      "cell_type": "markdown",
      "metadata": {
        "id": "hopODFM1TNtT",
        "colab_type": "text"
      },
      "source": [
        "## Step 1: Add the data folder to Google drive\n",
        "Click https://drive.google.com/open?id=15tGIHAPAatgdB8iZh_m80jCBPa-CrI_P\n",
        "![alt text](https://lh3.googleusercontent.com/r-gU6GT4MshdPDeaTjSSUIQP63ExT1ufshFMFGAjDBhu00tu9jMbMwbnjfvjSO4Q6js31X6SfOmSmQxSBS02Uj2x5HAfNvI6lyWdbgIazAlB3OQfB7d3-Cte6GrbarZzHCi_XYeufeTw-eS3GGNeOdQra9mXofIwVNBS6116XCjkVOt0zUdzJsvo_7B6HuTZLenuqJW0cTsnPdjJ_NpYcc3pqLVNlgxc7pdVeNmLhpm4AQKH5bsc6CGwpiAluRMtlPw-MmVVEtLbqCysICOHfB9xyJsc-sG6NiuLxNU4B52FFA-3xA4kVK5_xFRLYQU3ZDM9N2uSFzMszNqoSuyQaLqCcEnJHuH3IbimQEoo613MJtXuGDNMBo0nyQpWMlrRcaorrcn1eOf9IfIwAdStEMNyk-yt3PbajKS1TUnOKPXrVrS2AZZECXR3I2Mu_HQb99MapFgAG5TEJBbp0Qacer5ksM70njl3exIlWR9CosN5FXFQnlW2pEVObL-i9buIt2OtEhl5SeURzNC1vPfI-q_Knb_3VEN5OIQIO8A_chs6OJgvKxqVddw6T0vcPrGitkiyudQ1kZSel7xrSzApGuNBmUzfDYVRhMIjNF3RL6O05-daZaCTbRXtY9gulVDCaoDV7TAgRpLa3n6Kvx54QnAHtj7wuowiv9_lreRRwy9qfzTzip0MVKE=w736-h172-no)"
      ]
    },
    {
      "cell_type": "markdown",
      "metadata": {
        "id": "PuUD3tueUC-l",
        "colab_type": "text"
      },
      "source": [
        "## Step 2: Mount the AOI folder"
      ]
    },
    {
      "cell_type": "code",
      "metadata": {
        "id": "q1gRhxl-S7As",
        "colab_type": "code",
        "outputId": "7618dca7-6510-485e-845a-cff157128efc",
        "colab": {
          "base_uri": "https://localhost:8080/",
          "height": 34
        }
      },
      "source": [
        "#Step 2a: Mount the AOI folder\n",
        "from google.colab import drive\n",
        "drive.mount(\"/content/drive\", force_remount=True)"
      ],
      "execution_count": 26,
      "outputs": [
        {
          "output_type": "stream",
          "text": [
            "Mounted at /content/drive\n"
          ],
          "name": "stdout"
        }
      ]
    },
    {
      "cell_type": "code",
      "metadata": {
        "id": "hCd3LEtbjMmf",
        "colab_type": "code",
        "outputId": "2d98bbc9-fa7d-460f-ed9b-557744c9266f",
        "colab": {
          "base_uri": "https://localhost:8080/",
          "height": 34
        }
      },
      "source": [
        "root_dir = \"drive/My Drive/aidea-aoi/\"\n",
        "!ls \"drive/My Drive/aidea-aoi/data/\""
      ],
      "execution_count": 29,
      "outputs": [
        {
          "output_type": "stream",
          "text": [
            "test_images  train_images\n"
          ],
          "name": "stdout"
        }
      ]
    },
    {
      "cell_type": "markdown",
      "metadata": {
        "id": "fB81sG12q1p5",
        "colab_type": "text"
      },
      "source": [
        "## Step 3: View the AOI images"
      ]
    },
    {
      "cell_type": "code",
      "metadata": {
        "id": "A2bQZ-Eergzn",
        "colab_type": "code",
        "colab": {}
      },
      "source": [
        "from PIL import Image\n",
        "import matplotlib.pyplot as plt\n",
        "import numpy as np\n",
        "import sys\n",
        "%matplotlib inline"
      ],
      "execution_count": 0,
      "outputs": []
    },
    {
      "cell_type": "code",
      "metadata": {
        "id": "G2izzz0urwEb",
        "colab_type": "code",
        "outputId": "b3186ac5-eb6e-4e81-ec63-0d697e9b2cec",
        "colab": {
          "base_uri": "https://localhost:8080/",
          "height": 34
        }
      },
      "source": [
        "img = Image.open(root_dir+\"data/train_images/train_01677_299.png\")\n",
        "print(img.size)"
      ],
      "execution_count": 11,
      "outputs": [
        {
          "output_type": "stream",
          "text": [
            "(299, 299)\n"
          ],
          "name": "stdout"
        }
      ]
    },
    {
      "cell_type": "code",
      "metadata": {
        "id": "bgoFDiTAr4I7",
        "colab_type": "code",
        "colab": {
          "base_uri": "https://localhost:8080/",
          "height": 269
        },
        "outputId": "6e529a0b-12b9-4f9c-ac20-a5e2e794cac8"
      },
      "source": [
        "plt.imshow(img,cmap='gray')\n",
        "plt.show()"
      ],
      "execution_count": 12,
      "outputs": [
        {
          "output_type": "display_data",
          "data": {
            "image/png": "[encoded data removed]",
            "text/plain": [
              "<Figure size 432x288 with 1 Axes>"
            ]
          },
          "metadata": {
            "tags": []
          }
        }
      ]
    },
    {
      "cell_type": "code",
      "metadata": {
        "id": "KoKazAv9sK4z",
        "colab_type": "code",
        "colab": {
          "base_uri": "https://localhost:8080/",
          "height": 286
        },
        "outputId": "c73aabb4-6209-4971-ed2c-39fb7ad7ed12"
      },
      "source": [
        "img2=img.resize( (224, 224), Image.BILINEAR )\n",
        "print (img2.size)\n",
        "plt.imshow(img2,cmap='gray')\n",
        "plt.show()"
      ],
      "execution_count": 14,
      "outputs": [
        {
          "output_type": "stream",
          "text": [
            "(224, 224)\n"
          ],
          "name": "stdout"
        },
        {
          "output_type": "display_data",
          "data": {
            "image/png": "[encoded data removed]",
            "text/plain": [
              "<Figure size 432x288 with 1 Axes>"
            ]
          },
          "metadata": {
            "tags": []
          }
        }
      ]
    },
    {
      "cell_type": "markdown",
      "metadata": {
        "id": "Q_j8N8fEsrNz",
        "colab_type": "text"
      },
      "source": [
        "## Step 4: Resize the train/test images by PIL"
      ]
    },
    {
      "cell_type": "code",
      "metadata": {
        "id": "_vIUCmSnspkU",
        "colab_type": "code",
        "colab": {}
      },
      "source": [
        "#Resize the train images-(1) PIL\n",
        "from PIL import Image\n",
        "maxTrainNum = 2528\n",
        "for i in range(0,maxTrainNum):\n",
        "    imgname=\"train_{0:0>5d}.png\".format(i)\n",
        "    imgname2 = \"train_{0:0>5d}_224.png\".format(i)\n",
        "    img = Image.open(root_dir+\"data/train_images\" +'/'+ imgname)\n",
        "    img2 = img.resize((224,224), Image.BILINEAR)\n",
        "    img2.save(\"/tmp/\"+ imgname2 )"
      ],
      "execution_count": 0,
      "outputs": []
    },
    {
      "cell_type": "code",
      "metadata": {
        "id": "s88FogpMtevN",
        "colab_type": "code",
        "colab": {}
      },
      "source": [
        "#Resize the test images-(1) PIL\n",
        "maxTestNum = 10142\n",
        "for i in range(0,maxTrainNum):\n",
        "    imgname=\"test_{0:0>5d}.png\".format(i)\n",
        "    imgname2 = \"test_{0:0>5d}_224.png\".format(i)\n",
        "    img = Image.open(root_dir+\"data/test_images\" +'/'+ imgname)\n",
        "    img2 = img.resize((224,224), Image.BILINEAR)\n",
        "    img2.save(\"/tmp/\"+ imgname2 )"
      ],
      "execution_count": 0,
      "outputs": []
    },
    {
      "cell_type": "markdown",
      "metadata": {
        "id": "hTqGITokt7yG",
        "colab_type": "text"
      },
      "source": [
        "## Step 5: Read images and labels"
      ]
    },
    {
      "cell_type": "code",
      "metadata": {
        "id": "KNUtHvanuFPN",
        "colab_type": "code",
        "colab": {
          "base_uri": "https://localhost:8080/",
          "height": 51
        },
        "outputId": "7e948430-4e66-468d-c7b6-49e248227513"
      },
      "source": [
        "import pandas as pd\n",
        "#labes of train dataset\n",
        "df = pd.read_csv(\"train.csv\")\n",
        "print(df.shape)\n",
        "train_labels = df.iloc[:,1].values\n",
        "print(train_labels)"
      ],
      "execution_count": 30,
      "outputs": [
        {
          "output_type": "stream",
          "text": [
            "(2528, 2)\n",
            "[0 1 1 ... 3 0 5]\n"
          ],
          "name": "stdout"
        }
      ]
    },
    {
      "cell_type": "markdown",
      "metadata": {
        "id": "DQkSiQE6JQhH",
        "colab_type": "text"
      },
      "source": [
        "## Step 6: Plot the distribution of AOI lables"
      ]
    },
    {
      "cell_type": "code",
      "metadata": {
        "id": "VSbyP1nrIZZo",
        "colab_type": "code",
        "colab": {
          "base_uri": "https://localhost:8080/",
          "height": 34
        },
        "outputId": "79fe6440-9f24-4027-89d3-ccd08a36e8f8"
      },
      "source": [
        "labels, counts = np.unique(train_labels, return_counts=True)\n",
        "print(labels, counts)"
      ],
      "execution_count": 32,
      "outputs": [
        {
          "output_type": "stream",
          "text": [
            "[0 1 2 3 4 5] [674 492 100 378 240 644]\n"
          ],
          "name": "stdout"
        }
      ]
    },
    {
      "cell_type": "code",
      "metadata": {
        "id": "a-lDGoP0Iv1j",
        "colab_type": "code",
        "colab": {
          "base_uri": "https://localhost:8080/",
          "height": 350
        },
        "outputId": "dfc765bb-9521-4026-c250-c3323f453bd8"
      },
      "source": [
        "fig = plt.figure(figsize=(8, 5))\n",
        "plt.bar(labels, counts, width=0.7, align='center')\n",
        "plt.title(\"Label Distribution\")\n",
        "plt.xlabel('Label')\n",
        "plt.ylabel('Count')\n",
        "plt.xticks(labels)\n",
        "plt.ylim(0, 700)\n",
        "\n",
        "for a, b in zip(labels, counts):\n",
        "    plt.text(a, b, '%d' % b, ha='center', va='bottom', fontsize=10)\n",
        "plt.show()"
      ],
      "execution_count": 34,
      "outputs": [
        {
          "output_type": "display_data",
          "data": {
            "image/png": "[encoded data removed]",
            "text/plain": [
              "<Figure size 576x360 with 1 Axes>"
            ]
          },
          "metadata": {
            "tags": []
          }
        }
      ]
    },
    {
      "cell_type": "code",
      "metadata": {
        "id": "-f3OUcNSy6fw",
        "colab_type": "code",
        "colab": {}
      },
      "source": [
        "!ls \"drive/My Drive/aidea-aoi/data/train_images/\""
      ],
      "execution_count": 0,
      "outputs": []
    },
    {
      "cell_type": "code",
      "metadata": {
        "id": "linCO3GXyGGB",
        "colab_type": "code",
        "colab": {
          "base_uri": "https://localhost:8080/",
          "height": 63
        },
        "outputId": "a2ce8301-1d47-49ed-8fab-2e6d1f25fc3d"
      },
      "source": [
        "import numpy as np\n",
        "from tensorflow.keras.preprocessing import image\n",
        "from tensorflow.python.keras.applications.imagenet_utils import preprocess_input\n",
        "#Images of train dataset\n",
        "maxTrainNum = 2528\n",
        "#Assign a list for storing image data\n",
        "img_data_list=[]\n",
        "for i in range(0,maxTrainNum):\n",
        "    imgname=root_dir+\"data/train_images/train_{0:0>5d}_224.png\".format(i)#first image as train_00000_224.png\n",
        "    img = image.load_img(imgname)\n",
        "    x=image.img_to_array(img)\n",
        "    x = np.expand_dims(x, axis=0)\n",
        "    x = preprocess_input(x, mode='caffe')\n",
        "    img_data_list.append(x)"
      ],
      "execution_count": 35,
      "outputs": [
        {
          "output_type": "display_data",
          "data": {
            "text/html": [
              "<p style=\"color: red;\">\n",
              "The default version of TensorFlow in Colab will soon switch to TensorFlow 2.x.<br>\n",
              "We recommend you <a href=\"https://www.tensorflow.org/guide/migrate\" target=\"_blank\">upgrade</a> now \n",
              "or ensure your notebook will continue to use TensorFlow 1.x via the <code>%tensorflow_version 1.x</code> magic:\n",
              "<a href=\"https://colab.research.google.com/notebooks/tensorflow_version.ipynb\" target=\"_blank\">more info</a>.</p>\n"
            ],
            "text/plain": [
              "<IPython.core.display.HTML object>"
            ]
          },
          "metadata": {
            "tags": []
          }
        }
      ]
    },
    {
      "cell_type": "markdown",
      "metadata": {
        "id": "0ML6fr7G30Ke",
        "colab_type": "text"
      },
      "source": [
        "## Step 7: Reshape train dataset to fit model\n",
        "Convert image to array"
      ]
    },
    {
      "cell_type": "code",
      "metadata": {
        "id": "2E43DBi23oGW",
        "colab_type": "code",
        "colab": {}
      },
      "source": [
        "img_data = np.array(img_data_list)\n",
        "print (img_data.shape)  #(2528, 1, 224, 224, 3)\n",
        "img_data=np.rollaxis(img_data,1,0)\n",
        "print (img_data.shape)  #(1, 2528, 224, 224, 3)\n",
        "img_data=img_data[0]\n",
        "print (img_data.shape)  #(2528, 224, 224, 3)"
      ],
      "execution_count": 0,
      "outputs": []
    },
    {
      "cell_type": "markdown",
      "metadata": {
        "id": "145oInQk4EVw",
        "colab_type": "text"
      },
      "source": [
        "## Step 8: Load onr of ImageNet Models:VGG-19, ResNet50, Xception, InceptonV3"
      ]
    },
    {
      "cell_type": "code",
      "metadata": {
        "id": "COR_7b5W4TLO",
        "colab_type": "code",
        "colab": {}
      },
      "source": [
        ""
      ],
      "execution_count": 0,
      "outputs": []
    },
    {
      "cell_type": "code",
      "metadata": {
        "id": "kgXj8BdD39Jc",
        "colab_type": "code",
        "colab": {}
      },
      "source": [
        "import os\n",
        "from tensorflow.python.keras import utils\n",
        "from sklearn.utils import shuffle\n",
        "from sklearn.model_selection import train_test_split\n",
        "from tensorflow.keras.applications.vgg19 import VGG19\n",
        "from tensorflow.keras.layers import Dense, Activation, Flatten\n",
        "from tensorflow.keras.layers import Input\n",
        "from tensorflow.keras.models import Model"
      ],
      "execution_count": 0,
      "outputs": []
    },
    {
      "cell_type": "code",
      "metadata": {
        "id": "GEB0n3qf4HK7",
        "colab_type": "code",
        "colab": {}
      },
      "source": [
        "#Use the VGG19 model \n",
        "###  CODE HERE ###  (≈ 1 lines)\n",
        "model = VGG19(input_tensor=image_input, include_top=True, weights='imagenet')\n",
        "#Summary of the customize VGG16 model\n",
        "###  CODE HERE ###  (≈ 1 lines)\n",
        "model.summary()"
      ],
      "execution_count": 0,
      "outputs": []
    },
    {
      "cell_type": "markdown",
      "metadata": {
        "id": "nKHVgE2E4VI0",
        "colab_type": "text"
      },
      "source": [
        "## Step 9: Setting parameters of the customized model\n"
      ]
    },
    {
      "cell_type": "code",
      "metadata": {
        "id": "R6WNE5lc4fEe",
        "colab_type": "code",
        "colab": {}
      },
      "source": [
        "last_layer = model.get_layer('fc2').output\n",
        "out = Dense(num_classes, activation='softmax', name='output')(last_layer)\n",
        "custom_vgg_model = Model(image_input, out)\n",
        "custom_vgg_model.summary()\n",
        "\n",
        "for layer in custom_vgg_model.layers[:-1]:\n",
        "    layer.trainable = False\n",
        "\n",
        "#Set the model's loss function, optimizer, and metrics\n",
        "###  CODE HERE ###  (≈ 1 lines)\n",
        "custom_vgg_model.compile(loss='categorical_crossentropy',optimizer='rmsprop',metrics=['accuracy'])"
      ],
      "execution_count": 0,
      "outputs": []
    },
    {
      "cell_type": "markdown",
      "metadata": {
        "id": "zAwR-DrA4gOm",
        "colab_type": "text"
      },
      "source": [
        "## Step 10: Train the customized model"
      ]
    },
    {
      "cell_type": "code",
      "metadata": {
        "id": "VF_r1wCi4vgk",
        "colab_type": "code",
        "colab": {}
      },
      "source": [
        "X_train= img_data\n",
        "# one-hot encoding\n",
        "y_train = utils.np_utils.to_categorical(train_labels, num_classes)"
      ],
      "execution_count": 0,
      "outputs": []
    },
    {
      "cell_type": "code",
      "metadata": {
        "id": "nSkCgjJp4xRk",
        "colab_type": "code",
        "colab": {}
      },
      "source": [
        "import datetime\n",
        "starttime = datetime.datetime.now()\n",
        "#The parameters for the training model\n",
        "###  CODE HERE ###  (≈ 1 lines)\n",
        "hist = custom_vgg_model.fit(X_train, y_train, batch_size=32, epochs=10, verbose=1)\n",
        "endtime = datetime.datetime.now()\n",
        "print('Training time: %s' % (endtime - starttime).seconds)"
      ],
      "execution_count": 0,
      "outputs": []
    },
    {
      "cell_type": "markdown",
      "metadata": {
        "id": "7PUC0TP_5HGx",
        "colab_type": "text"
      },
      "source": [
        "## Step 11: Save the customized model"
      ]
    },
    {
      "cell_type": "code",
      "metadata": {
        "id": "Vc3SLMmC56n7",
        "colab_type": "code",
        "colab": {}
      },
      "source": [
        "plt.plot(History.history['loss'])\n",
        "plt.plot(History.history['val_loss'])\n",
        "plt.title('Model Loss')\n",
        "plt.ylabel('Loss')\n",
        "plt.xlabel('Epochs')\n",
        "plt.legend(['train', 'test'])\n",
        "plt.show()"
      ],
      "execution_count": 0,
      "outputs": []
    },
    {
      "cell_type": "code",
      "metadata": {
        "id": "3zLLofH857cY",
        "colab_type": "code",
        "colab": {}
      },
      "source": [
        "plt.plot(History.history['acc'])\n",
        "plt.plot(History.history['val_acc'])\n",
        "plt.title('Model Accuracy')\n",
        "plt.ylabel('Accuracy')\n",
        "plt.xlabel('Epochs')\n",
        "plt.legend(['train', 'test'])\n",
        "plt.show()"
      ],
      "execution_count": 0,
      "outputs": []
    },
    {
      "cell_type": "code",
      "metadata": {
        "id": "e7FCxNv95Pt3",
        "colab_type": "code",
        "colab": {}
      },
      "source": [
        "custom_vgg_model.save(\"myVgg19-010epochs.h5\")"
      ],
      "execution_count": 0,
      "outputs": []
    },
    {
      "cell_type": "markdown",
      "metadata": {
        "id": "2mEIvBpa6B5J",
        "colab_type": "text"
      },
      "source": [
        "## Step 12: Check erroneous results"
      ]
    },
    {
      "cell_type": "code",
      "metadata": {
        "id": "fI5qIV_q5_de",
        "colab_type": "code",
        "colab": {}
      },
      "source": [
        ""
      ],
      "execution_count": 0,
      "outputs": []
    },
    {
      "cell_type": "markdown",
      "metadata": {
        "id": "d7UhRP_w6cI2",
        "colab_type": "text"
      },
      "source": [
        "## Step 13: Load one of saved models"
      ]
    },
    {
      "cell_type": "code",
      "metadata": {
        "id": "x2-5ruOT6rKk",
        "colab_type": "code",
        "colab": {}
      },
      "source": [
        "model = tf.keras.models.load_model('myVgg19-010epochs.h5')\n",
        "model.summary()"
      ],
      "execution_count": 0,
      "outputs": []
    },
    {
      "cell_type": "markdown",
      "metadata": {
        "id": "8CxfSzng659A",
        "colab_type": "text"
      },
      "source": [
        "## Step 14: Load test images"
      ]
    },
    {
      "cell_type": "code",
      "metadata": {
        "id": "8FqaaBed61u4",
        "colab_type": "code",
        "colab": {}
      },
      "source": [
        ""
      ],
      "execution_count": 0,
      "outputs": []
    },
    {
      "cell_type": "code",
      "metadata": {
        "id": "pwydVXMO6wvS",
        "colab_type": "code",
        "colab": {}
      },
      "source": [
        "import numpy as np\n",
        "from tensorflow.keras.preprocessing import image\n",
        "from tensorflow.python.keras.applications.imagenet_utils import preprocess_input\n",
        "maxTestNum = 10142\n",
        "#Images of train dataset\n",
        "#設定一個list\n",
        "img_data_list=[]\n",
        "for i in range(0,maxTestNum):\n",
        "    imgname=\"test_images/test_{0:0>5d}_224.png\".format(i)\n",
        "    img = image.load_img(imgname)\n",
        "    x = image.img_to_array(img)\n",
        "    x = np.expand_dims(x, axis=0)\n",
        "    x = preprocess_input(x)\n",
        "    img_data_list.append(x)"
      ],
      "execution_count": 0,
      "outputs": []
    },
    {
      "cell_type": "code",
      "metadata": {
        "id": "J2wczc2O68dm",
        "colab_type": "code",
        "colab": {}
      },
      "source": [
        ""
      ],
      "execution_count": 0,
      "outputs": []
    },
    {
      "cell_type": "markdown",
      "metadata": {
        "id": "uRnfvkPs69o3",
        "colab_type": "text"
      },
      "source": [
        "## Step 15: Reshape test dataset to fit model"
      ]
    },
    {
      "cell_type": "code",
      "metadata": {
        "id": "dh05UPY_7Cjv",
        "colab_type": "code",
        "colab": {}
      },
      "source": [
        "img_data = np.array(img_data_list)\n",
        "print (img_data.shape)  #(600, 1, 224, 224, 3)\n",
        "img_data=np.rollaxis(img_data,1,0)\n",
        "print (img_data.shape)  #(1, 600, 224, 224, 3)\n",
        "img_data=img_data[0]\n",
        "print (img_data.shape)  #(600, 224, 224, 3)"
      ],
      "execution_count": 0,
      "outputs": []
    },
    {
      "cell_type": "markdown",
      "metadata": {
        "id": "kyJOvJQG7Hle",
        "colab_type": "text"
      },
      "source": [
        "## Step 16: Output the result of predictions"
      ]
    },
    {
      "cell_type": "code",
      "metadata": {
        "id": "LqPt0rm_7E31",
        "colab_type": "code",
        "colab": {}
      },
      "source": [
        "X_test = img_data\n",
        "prediction = model.predict(X_test, batch_size=10)\n",
        "predict = np.argmax(prediction,axis=1)\n",
        "print(predict)"
      ],
      "execution_count": 0,
      "outputs": []
    },
    {
      "cell_type": "code",
      "metadata": {
        "id": "yPS7nFb67PeG",
        "colab_type": "code",
        "colab": {}
      },
      "source": [
        "df = pd.read_csv('test.csv')\n",
        "print(df.shape)"
      ],
      "execution_count": 0,
      "outputs": []
    },
    {
      "cell_type": "code",
      "metadata": {
        "id": "if58ViVZ7SWc",
        "colab_type": "code",
        "colab": {}
      },
      "source": [
        "df['Label'] = predict\n",
        "df.to_csv(\"submission-20191216.csv\", index=False)"
      ],
      "execution_count": 0,
      "outputs": []
    }
  ]
}